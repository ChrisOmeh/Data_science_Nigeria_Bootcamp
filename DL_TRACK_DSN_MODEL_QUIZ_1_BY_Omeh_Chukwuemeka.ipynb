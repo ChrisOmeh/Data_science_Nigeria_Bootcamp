{
  "nbformat": 4,
  "nbformat_minor": 0,
  "metadata": {
    "colab": {
      "name": "DL TRACK DSN MODEL QUIZ_1 BY Omeh Chukwuemeka",
      "provenance": [],
      "authorship_tag": "ABX9TyOhYxzRRK63Vs2OLMsze35A",
      "include_colab_link": true
    },
    "kernelspec": {
      "name": "python3",
      "display_name": "Python 3"
    }
  },
  "cells": [
    {
      "cell_type": "markdown",
      "metadata": {
        "id": "view-in-github",
        "colab_type": "text"
      },
      "source": [
        "<a href=\"https://colab.research.google.com/github/ProsperOmeh/Data_science_Nigeria/blob/master/DL_TRACK_DSN_MODEL_QUIZ_1_BY_Omeh_Chukwuemeka.ipynb\" target=\"_parent\"><img src=\"https://colab.research.google.com/assets/colab-badge.svg\" alt=\"Open In Colab\"/></a>"
      ]
    },
    {
      "cell_type": "code",
      "metadata": {
        "id": "e7SSdEkJpc7U",
        "colab_type": "code",
        "cellView": "both",
        "colab": {
          "base_uri": "https://localhost:8080/",
          "height": 34
        },
        "outputId": "5f92fd3d-13cc-4a1a-d852-e836e3cf0fa3"
      },
      "source": [
        "from __future__ import print_function\n",
        "import numpy as np\n",
        "from keras.models import Sequential\n",
        "from keras.optimizers import SGD, Adam,RMSprop\n",
        "from keras.layers.core import Dense, Activation, Dropout\n",
        "from keras.datasets import mnist\n",
        "from keras.utils import np_utils\n",
        "from matplotlib import pyplot as plt\n",
        "import pandas as pd\n",
        "np.random.seed(1671)\n",
        "%matplotlib inline"
      ],
      "execution_count": 1,
      "outputs": [
        {
          "output_type": "stream",
          "text": [
            "Using TensorFlow backend.\n"
          ],
          "name": "stderr"
        }
      ]
    },
    {
      "cell_type": "markdown",
      "metadata": {
        "id": "PR_Bf4PGs1NG",
        "colab_type": "text"
      },
      "source": [
        "Hidden1 = 300\n",
        "Hidden2 = 500\n",
        "Hidden3 = 100\n",
        "Output neuron = 10\n",
        "Optimizer = Adam Optimizer\n",
        "Loss = Categorical cross entropy."
      ]
    },
    {
      "cell_type": "code",
      "metadata": {
        "id": "9UZKmOQZsJPQ",
        "colab_type": "code",
        "colab": {}
      },
      "source": [
        "#let define our variables\n",
        "N_EPOCHS = 20\n",
        "BATCH_SIZE = 128\n",
        "VERBOSE = 1\n",
        "NB_CLASSES = 10 #That is number of outputs\n",
        "OPTIMIZER = SGD() #Instantiating the Optimizer we imported\n",
        "OPTIMIZER_2 = Adam()\n",
        "OPTIMIZER_3 = RMSprop()\n",
        "N_HIDDEN_1 = 300\n",
        "N_HIDDEN_2 = 500\n",
        "N_HIDDEN_3 = 100\n",
        "DROPOUT = 0.3\n",
        "#OUTPUT NEURON\n",
        "OUTPUT_NEURON = 10\n",
        "\n",
        "#VALIDATION SPLIT FOR OUR TRAIN AND TEST DATASET\n",
        "VALIDATION_SPLIT = 0.2\n"
      ],
      "execution_count": 2,
      "outputs": []
    },
    {
      "cell_type": "code",
      "metadata": {
        "id": "8OrhuCBJuBjZ",
        "colab_type": "code",
        "colab": {
          "base_uri": "https://localhost:8080/",
          "height": 85
        },
        "outputId": "357cb903-4a83-4cd5-b2a8-4345c756c40c"
      },
      "source": [
        "#let split our dataset into train and test\n",
        "(X_train,y_train), (X_test, y_test) = mnist.load_data()\n",
        "print('Number of X_train are:', X_train.shape)\n",
        "print('Number of y_train are:', y_train.shape)\n",
        "print('Number of X_test are:', X_test.shape)\n",
        "print('Number of y_test are:', y_test.shape)"
      ],
      "execution_count": 3,
      "outputs": [
        {
          "output_type": "stream",
          "text": [
            "Number of X_train are: (60000, 28, 28)\n",
            "Number of y_train are: (60000,)\n",
            "Number of X_test are: (10000, 28, 28)\n",
            "Number of y_test are: (10000,)\n"
          ],
          "name": "stdout"
        }
      ]
    },
    {
      "cell_type": "code",
      "metadata": {
        "id": "_o2Z_WABupzF",
        "colab_type": "code",
        "colab": {
          "base_uri": "https://localhost:8080/",
          "height": 51
        },
        "outputId": "f24ce6d7-0031-4988-c89f-63120e2d7fa2"
      },
      "source": [
        "#The width and height of our mnist image is 28 * 28\n",
        "#28 * 28 = 784\n",
        "#Let reshaped our dataset(X_train and X_test) to 784 with regards to \n",
        "RESHAPED = 784\n",
        "X_train = X_train.reshape(60000,RESHAPED)\n",
        "X_test = X_test.reshape(10000,RESHAPED)\n",
        "print('X_train shape is:', X_train.shape)\n",
        "print('X_test shape is:', X_test.shape)"
      ],
      "execution_count": 4,
      "outputs": [
        {
          "output_type": "stream",
          "text": [
            "X_train shape is: (60000, 784)\n",
            "X_test shape is: (10000, 784)\n"
          ],
          "name": "stdout"
        }
      ]
    },
    {
      "cell_type": "code",
      "metadata": {
        "id": "WMlCuG_Ft78T",
        "colab_type": "code",
        "colab": {
          "base_uri": "https://localhost:8080/",
          "height": 34
        },
        "outputId": "5da7bb41-58b3-431c-a820-a569a0eb3989"
      },
      "source": [
        "print(X_train.size)"
      ],
      "execution_count": 5,
      "outputs": [
        {
          "output_type": "stream",
          "text": [
            "47040000\n"
          ],
          "name": "stdout"
        }
      ]
    },
    {
      "cell_type": "code",
      "metadata": {
        "id": "fjuA4RVSwsB5",
        "colab_type": "code",
        "colab": {
          "base_uri": "https://localhost:8080/",
          "height": 54
        },
        "outputId": "8e82d931-ab70-491d-963f-194d6e960c23"
      },
      "source": [
        "plt.imshow(X_train[:5], interpolation='nearest')\n",
        "plt.show()"
      ],
      "execution_count": 6,
      "outputs": [
        {
          "output_type": "display_data",
          "data": {
            "image/png": "[encoded data removed]",
            "text/plain": [
              "<Figure size 432x288 with 1 Axes>"
            ]
          },
          "metadata": {
            "tags": [],
            "needs_background": "light"
          }
        }
      ]
    },
    {
      "cell_type": "code",
      "metadata": {
        "id": "vLJL9BTvvjPU",
        "colab_type": "code",
        "colab": {
          "base_uri": "https://localhost:8080/",
          "height": 51
        },
        "outputId": "3977169b-f70b-4235-dc6b-3ba38a2cf85f"
      },
      "source": [
        "#Let convert our X_train and _X_test to float data type\n",
        "X_train = X_train.astype(\"float32\")\n",
        "X_test = X_test.astype(\"float32\")\n",
        "print(X_train.dtype)\n",
        "print(X_test.dtype)"
      ],
      "execution_count": 7,
      "outputs": [
        {
          "output_type": "stream",
          "text": [
            "float32\n",
            "float32\n"
          ],
          "name": "stdout"
        }
      ]
    },
    {
      "cell_type": "code",
      "metadata": {
        "id": "vuI0d9HWv6Rg",
        "colab_type": "code",
        "colab": {
          "base_uri": "https://localhost:8080/",
          "height": 51
        },
        "outputId": "b4d537a6-eb28-4cbd-b834-4fc405b375f6"
      },
      "source": [
        "#It will be good if we NORMALIZE our X_train and X_test by using colour channel of 255 so the range can be between -1 and 1\n",
        "X_train = X_train/255\n",
        "X_test = X_test/255\n",
        "print(X_train.shape[0], 'Sample of Training data(X_train)')\n",
        "print(X_test.shape[0], 'Sample of Testing data(X_test)')"
      ],
      "execution_count": 8,
      "outputs": [
        {
          "output_type": "stream",
          "text": [
            "60000 Sample of Training data(X_train)\n",
            "10000 Sample of Testing data(X_test)\n"
          ],
          "name": "stdout"
        }
      ]
    },
    {
      "cell_type": "code",
      "metadata": {
        "id": "6k2fzba8w6hB",
        "colab_type": "code",
        "colab": {
          "base_uri": "https://localhost:8080/",
          "height": 68
        },
        "outputId": "e052161d-8c83-4f37-e796-005ee90b48c3"
      },
      "source": [
        "#since is an image dataset, let convert the class vector i.e y_train and y_test in to binary class matrices\n",
        "y_train = np_utils.to_categorical(y_train, NB_CLASSES)\n",
        "y_test = np_utils.to_categorical(y_test, NB_CLASSES)\n",
        "print(y_train.dtype)\n",
        "print(y_test.dtype)\n",
        "y_train.shape"
      ],
      "execution_count": 9,
      "outputs": [
        {
          "output_type": "stream",
          "text": [
            "float32\n",
            "float32\n"
          ],
          "name": "stdout"
        },
        {
          "output_type": "execute_result",
          "data": {
            "text/plain": [
              "(60000, 10)"
            ]
          },
          "metadata": {
            "tags": []
          },
          "execution_count": 9
        }
      ]
    },
    {
      "cell_type": "markdown",
      "metadata": {
        "id": "G5Xq5jkpCUtJ",
        "colab_type": "text"
      },
      "source": [
        "LET BUILD OUR CNN ARCHITECTURE"
      ]
    },
    {
      "cell_type": "code",
      "metadata": {
        "id": "x-tQrCXhyVl_",
        "colab_type": "code",
        "colab": {
          "base_uri": "https://localhost:8080/",
          "height": 527
        },
        "outputId": "9e1fb0d4-e7e3-4df5-f317-78f2358e0339"
      },
      "source": [
        "model = Sequential()\n",
        "model.add(Dense(N_HIDDEN_1, input_shape = (RESHAPED,)))\n",
        "model.add(Activation('relu'))\n",
        "model.add(Dropout(DROPOUT))\n",
        "#Hidden layers\n",
        "model.add(Dense(N_HIDDEN_2))\n",
        "model.add(Activation('relu'))\n",
        "model.add(Dropout(DROPOUT))\n",
        "model.add(Dense(N_HIDDEN_3))\n",
        "model.add(Activation('relu'))\n",
        "model.add(Dropout(DROPOUT))\n",
        "\n",
        "#for output layer\n",
        "model.add(Dense(OUTPUT_NEURON))\n",
        "model.add(Activation('softmax'))\n",
        "model.summary()\n"
      ],
      "execution_count": 10,
      "outputs": [
        {
          "output_type": "stream",
          "text": [
            "Model: \"sequential_1\"\n",
            "_________________________________________________________________\n",
            "Layer (type)                 Output Shape              Param #   \n",
            "=================================================================\n",
            "dense_1 (Dense)              (None, 300)               235500    \n",
            "_________________________________________________________________\n",
            "activation_1 (Activation)    (None, 300)               0         \n",
            "_________________________________________________________________\n",
            "dropout_1 (Dropout)          (None, 300)               0         \n",
            "_________________________________________________________________\n",
            "dense_2 (Dense)              (None, 500)               150500    \n",
            "_________________________________________________________________\n",
            "activation_2 (Activation)    (None, 500)               0         \n",
            "_________________________________________________________________\n",
            "dropout_2 (Dropout)          (None, 500)               0         \n",
            "_________________________________________________________________\n",
            "dense_3 (Dense)              (None, 100)               50100     \n",
            "_________________________________________________________________\n",
            "activation_3 (Activation)    (None, 100)               0         \n",
            "_________________________________________________________________\n",
            "dropout_3 (Dropout)          (None, 100)               0         \n",
            "_________________________________________________________________\n",
            "dense_4 (Dense)              (None, 10)                1010      \n",
            "_________________________________________________________________\n",
            "activation_4 (Activation)    (None, 10)                0         \n",
            "=================================================================\n",
            "Total params: 437,110\n",
            "Trainable params: 437,110\n",
            "Non-trainable params: 0\n",
            "_________________________________________________________________\n"
          ],
          "name": "stdout"
        }
      ]
    },
    {
      "cell_type": "code",
      "metadata": {
        "id": "U5E3mWLQ1d5T",
        "colab_type": "code",
        "colab": {
          "base_uri": "https://localhost:8080/",
          "height": 731
        },
        "outputId": "6b2ad474-7c0d-4c22-e720-644407903bd8"
      },
      "source": [
        "#let compile our model\n",
        "model.compile(loss='categorical_crossentropy', optimizer= OPTIMIZER, metrics=['accuracy'])\n",
        "\n",
        "#let fit our model with X_train and y_train\n",
        "model_fit = model.fit(X_train, y_train, batch_size=BATCH_SIZE, epochs=20, validation_split=VALIDATION_SPLIT)\n",
        "\n",
        "#Let score(evaluate) our model using accuracy as metrics which we compile above\n",
        "score = model.evaluate(X_test, y_test, verbose=VERBOSE)"
      ],
      "execution_count": 11,
      "outputs": [
        {
          "output_type": "stream",
          "text": [
            "Train on 48000 samples, validate on 12000 samples\n",
            "Epoch 1/20\n",
            "48000/48000 [==============================] - 5s 111us/step - loss: 1.8425 - accuracy: 0.4046 - val_loss: 0.9387 - val_accuracy: 0.8068\n",
            "Epoch 2/20\n",
            "48000/48000 [==============================] - 5s 108us/step - loss: 0.9187 - accuracy: 0.7157 - val_loss: 0.4822 - val_accuracy: 0.8731\n",
            "Epoch 3/20\n",
            "48000/48000 [==============================] - 5s 111us/step - loss: 0.6512 - accuracy: 0.8009 - val_loss: 0.3771 - val_accuracy: 0.8976\n",
            "Epoch 4/20\n",
            "48000/48000 [==============================] - 5s 107us/step - loss: 0.5443 - accuracy: 0.8353 - val_loss: 0.3255 - val_accuracy: 0.9080\n",
            "Epoch 5/20\n",
            "48000/48000 [==============================] - 5s 107us/step - loss: 0.4831 - accuracy: 0.8550 - val_loss: 0.2961 - val_accuracy: 0.9139\n",
            "Epoch 6/20\n",
            "48000/48000 [==============================] - 5s 109us/step - loss: 0.4398 - accuracy: 0.8702 - val_loss: 0.2726 - val_accuracy: 0.9210\n",
            "Epoch 7/20\n",
            "48000/48000 [==============================] - 5s 109us/step - loss: 0.4068 - accuracy: 0.8792 - val_loss: 0.2567 - val_accuracy: 0.9245\n",
            "Epoch 8/20\n",
            "48000/48000 [==============================] - 5s 109us/step - loss: 0.3773 - accuracy: 0.8884 - val_loss: 0.2412 - val_accuracy: 0.9291\n",
            "Epoch 9/20\n",
            "48000/48000 [==============================] - 5s 111us/step - loss: 0.3548 - accuracy: 0.8974 - val_loss: 0.2280 - val_accuracy: 0.9323\n",
            "Epoch 10/20\n",
            "48000/48000 [==============================] - 5s 106us/step - loss: 0.3334 - accuracy: 0.9034 - val_loss: 0.2172 - val_accuracy: 0.9353\n",
            "Epoch 11/20\n",
            "48000/48000 [==============================] - 5s 108us/step - loss: 0.3227 - accuracy: 0.9055 - val_loss: 0.2079 - val_accuracy: 0.9383\n",
            "Epoch 12/20\n",
            "48000/48000 [==============================] - 5s 109us/step - loss: 0.3037 - accuracy: 0.9114 - val_loss: 0.1973 - val_accuracy: 0.9408\n",
            "Epoch 13/20\n",
            "48000/48000 [==============================] - 5s 108us/step - loss: 0.2970 - accuracy: 0.9123 - val_loss: 0.1898 - val_accuracy: 0.9431\n",
            "Epoch 14/20\n",
            "48000/48000 [==============================] - 5s 109us/step - loss: 0.2839 - accuracy: 0.9172 - val_loss: 0.1821 - val_accuracy: 0.9459\n",
            "Epoch 15/20\n",
            "48000/48000 [==============================] - 5s 109us/step - loss: 0.2737 - accuracy: 0.9197 - val_loss: 0.1755 - val_accuracy: 0.9488\n",
            "Epoch 16/20\n",
            "48000/48000 [==============================] - 5s 109us/step - loss: 0.2626 - accuracy: 0.9240 - val_loss: 0.1702 - val_accuracy: 0.9499\n",
            "Epoch 17/20\n",
            "48000/48000 [==============================] - 5s 109us/step - loss: 0.2552 - accuracy: 0.9261 - val_loss: 0.1652 - val_accuracy: 0.9517\n",
            "Epoch 18/20\n",
            "48000/48000 [==============================] - 5s 110us/step - loss: 0.2421 - accuracy: 0.9291 - val_loss: 0.1594 - val_accuracy: 0.9523\n",
            "Epoch 19/20\n",
            "48000/48000 [==============================] - 5s 107us/step - loss: 0.2368 - accuracy: 0.9301 - val_loss: 0.1559 - val_accuracy: 0.9537\n",
            "Epoch 20/20\n",
            "48000/48000 [==============================] - 5s 110us/step - loss: 0.2289 - accuracy: 0.9335 - val_loss: 0.1516 - val_accuracy: 0.9543\n",
            "10000/10000 [==============================] - 1s 60us/step\n"
          ],
          "name": "stdout"
        }
      ]
    },
    {
      "cell_type": "code",
      "metadata": {
        "id": "2t9pSjTM26or",
        "colab_type": "code",
        "colab": {
          "base_uri": "https://localhost:8080/",
          "height": 68
        },
        "outputId": "6a88f572-4da4-428d-ed63-3cfbea4bc9f9"
      },
      "source": [
        "#let print our score for SGD OPIMIZER\n",
        "print('TEST SCORE SGD Optimizer:',score[0])\n",
        "print('TEST ACCURACY FOR SGD Optimizer:',score[1])\n",
        "print('Score is',score)"
      ],
      "execution_count": 12,
      "outputs": [
        {
          "output_type": "stream",
          "text": [
            "TEST SCORE SGD Optimizer: 0.15526064120195807\n",
            "TEST ACCURACY FOR SGD Optimizer: 0.9527000188827515\n",
            "Score is [0.15526064120195807, 0.9527000188827515]\n"
          ],
          "name": "stdout"
        }
      ]
    },
    {
      "cell_type": "markdown",
      "metadata": {
        "id": "7EnAKnTkAoa1",
        "colab_type": "text"
      },
      "source": [
        "LET SEE THE TRAININ HISTORY OF OUR MODEL USING SGD OPTIMIZER"
      ]
    },
    {
      "cell_type": "code",
      "metadata": {
        "id": "Bm2-CwSFAKwu",
        "colab_type": "code",
        "colab": {
          "base_uri": "https://localhost:8080/",
          "height": 34
        },
        "outputId": "f2e9579a-1da1-4ecc-8088-a6295f76c3e6"
      },
      "source": [
        "# list all data in history\n",
        "print(model_fit.history.keys())"
      ],
      "execution_count": 13,
      "outputs": [
        {
          "output_type": "stream",
          "text": [
            "dict_keys(['val_loss', 'val_accuracy', 'loss', 'accuracy'])\n"
          ],
          "name": "stdout"
        }
      ]
    },
    {
      "cell_type": "code",
      "metadata": {
        "id": "rW7mQnaOAmJx",
        "colab_type": "code",
        "colab": {
          "base_uri": "https://localhost:8080/",
          "height": 295
        },
        "outputId": "2df75f75-b3ac-4c78-deed-548a17476582"
      },
      "source": [
        "# summarize history for accuracy\n",
        "plt.plot(model_fit.history['accuracy'])\n",
        "plt.plot(model_fit.history['val_accuracy'])\n",
        "plt.title('model accuracy')\n",
        "plt.ylabel('accuracy')\n",
        "plt.xlabel('epoch')\n",
        "plt.legend(['train', 'test'], loc='center right')\n",
        "plt.show()"
      ],
      "execution_count": 14,
      "outputs": [
        {
          "output_type": "display_data",
          "data": {
            "image/png": "[encoded data removed]",
            "text/plain": [
              "<Figure size 432x288 with 1 Axes>"
            ]
          },
          "metadata": {
            "tags": [],
            "needs_background": "light"
          }
        }
      ]
    },
    {
      "cell_type": "code",
      "metadata": {
        "id": "hWGZpN7GAj3t",
        "colab_type": "code",
        "colab": {
          "base_uri": "https://localhost:8080/",
          "height": 295
        },
        "outputId": "254f1200-0095-4d76-e7f2-cf59d0f86bfa"
      },
      "source": [
        "# summarize history for loss\n",
        "plt.plot(model_fit.history['loss'])\n",
        "plt.plot(model_fit.history['val_loss'])\n",
        "plt.title('model loss')\n",
        "plt.ylabel('loss')\n",
        "plt.xlabel('epoch')\n",
        "plt.legend(['train', 'test'], loc='center right')\n",
        "plt.show()"
      ],
      "execution_count": 15,
      "outputs": [
        {
          "output_type": "display_data",
          "data": {
            "image/png": "[encoded data removed]",
            "text/plain": [
              "<Figure size 432x288 with 1 Axes>"
            ]
          },
          "metadata": {
            "tags": [],
            "needs_background": "light"
          }
        }
      ]
    },
    {
      "cell_type": "code",
      "metadata": {
        "id": "5SP01irgCckg",
        "colab_type": "code",
        "colab": {
          "base_uri": "https://localhost:8080/",
          "height": 731
        },
        "outputId": "9ace5087-dbf4-4733-b941-7e1358c45c92"
      },
      "source": [
        "#let compile our model using ADAM OPTIMIZER\n",
        "model.compile(loss='categorical_crossentropy', optimizer=OPTIMIZER_2, metrics=['accuracy'])\n",
        "\n",
        "#let fit our model with X_train and y_train\n",
        "model_fit_adam = model.fit(X_train, y_train, batch_size=BATCH_SIZE, epochs=20, validation_split=VALIDATION_SPLIT)\n",
        "\n",
        "#Let score(evaluate) our model using accuracy as metrics which we compile above\n",
        "score = model.evaluate(X_test, y_test, verbose=VERBOSE)"
      ],
      "execution_count": 16,
      "outputs": [
        {
          "output_type": "stream",
          "text": [
            "Train on 48000 samples, validate on 12000 samples\n",
            "Epoch 1/20\n",
            "48000/48000 [==============================] - 6s 131us/step - loss: 0.2126 - accuracy: 0.9374 - val_loss: 0.1188 - val_accuracy: 0.9644\n",
            "Epoch 2/20\n",
            "48000/48000 [==============================] - 6s 129us/step - loss: 0.1442 - accuracy: 0.9572 - val_loss: 0.1060 - val_accuracy: 0.9693\n",
            "Epoch 3/20\n",
            "48000/48000 [==============================] - 6s 131us/step - loss: 0.1110 - accuracy: 0.9678 - val_loss: 0.0939 - val_accuracy: 0.9727\n",
            "Epoch 4/20\n",
            "48000/48000 [==============================] - 6s 126us/step - loss: 0.0954 - accuracy: 0.9715 - val_loss: 0.0812 - val_accuracy: 0.9747\n",
            "Epoch 5/20\n",
            "48000/48000 [==============================] - 6s 125us/step - loss: 0.0845 - accuracy: 0.9741 - val_loss: 0.0831 - val_accuracy: 0.9768\n",
            "Epoch 6/20\n",
            "48000/48000 [==============================] - 6s 124us/step - loss: 0.0711 - accuracy: 0.9783 - val_loss: 0.0845 - val_accuracy: 0.9761\n",
            "Epoch 7/20\n",
            "48000/48000 [==============================] - 6s 125us/step - loss: 0.0670 - accuracy: 0.9795 - val_loss: 0.0793 - val_accuracy: 0.9779\n",
            "Epoch 8/20\n",
            "48000/48000 [==============================] - 6s 125us/step - loss: 0.0615 - accuracy: 0.9812 - val_loss: 0.0798 - val_accuracy: 0.9765\n",
            "Epoch 9/20\n",
            "48000/48000 [==============================] - 6s 123us/step - loss: 0.0550 - accuracy: 0.9825 - val_loss: 0.0857 - val_accuracy: 0.9781\n",
            "Epoch 10/20\n",
            "48000/48000 [==============================] - 6s 125us/step - loss: 0.0519 - accuracy: 0.9837 - val_loss: 0.0795 - val_accuracy: 0.9786\n",
            "Epoch 11/20\n",
            "48000/48000 [==============================] - 6s 124us/step - loss: 0.0484 - accuracy: 0.9846 - val_loss: 0.0785 - val_accuracy: 0.9802\n",
            "Epoch 12/20\n",
            "48000/48000 [==============================] - 6s 127us/step - loss: 0.0472 - accuracy: 0.9851 - val_loss: 0.0885 - val_accuracy: 0.9773\n",
            "Epoch 13/20\n",
            "48000/48000 [==============================] - 6s 128us/step - loss: 0.0436 - accuracy: 0.9861 - val_loss: 0.0801 - val_accuracy: 0.9807\n",
            "Epoch 14/20\n",
            "48000/48000 [==============================] - 6s 126us/step - loss: 0.0409 - accuracy: 0.9872 - val_loss: 0.0816 - val_accuracy: 0.9803\n",
            "Epoch 15/20\n",
            "48000/48000 [==============================] - 6s 127us/step - loss: 0.0407 - accuracy: 0.9871 - val_loss: 0.0876 - val_accuracy: 0.9786\n",
            "Epoch 16/20\n",
            "48000/48000 [==============================] - 6s 125us/step - loss: 0.0352 - accuracy: 0.9884 - val_loss: 0.0887 - val_accuracy: 0.9793\n",
            "Epoch 17/20\n",
            "48000/48000 [==============================] - 6s 126us/step - loss: 0.0351 - accuracy: 0.9888 - val_loss: 0.0888 - val_accuracy: 0.9786\n",
            "Epoch 18/20\n",
            "48000/48000 [==============================] - 6s 127us/step - loss: 0.0347 - accuracy: 0.9887 - val_loss: 0.0892 - val_accuracy: 0.9793\n",
            "Epoch 19/20\n",
            "48000/48000 [==============================] - 6s 125us/step - loss: 0.0321 - accuracy: 0.9899 - val_loss: 0.0939 - val_accuracy: 0.9791\n",
            "Epoch 20/20\n",
            "48000/48000 [==============================] - 7s 142us/step - loss: 0.0335 - accuracy: 0.9892 - val_loss: 0.0849 - val_accuracy: 0.9803\n",
            "10000/10000 [==============================] - 1s 83us/step\n"
          ],
          "name": "stdout"
        }
      ]
    },
    {
      "cell_type": "code",
      "metadata": {
        "id": "RAGehgkOC7Yj",
        "colab_type": "code",
        "colab": {
          "base_uri": "https://localhost:8080/",
          "height": 68
        },
        "outputId": "1954d5db-1efe-4c3f-e49d-f89916e2280f"
      },
      "source": [
        "#let print our score ADAM OPTIMIZER\n",
        "print('TEST SCORE FOR ADAM Optimizer:',score[0])\n",
        "print('TEST ACCURACY FOR ADAM Optimizer:',score[1])\n",
        "print('Score is',score)"
      ],
      "execution_count": 17,
      "outputs": [
        {
          "output_type": "stream",
          "text": [
            "TEST SCORE FOR ADAM Optimizer: 0.07978461757874097\n",
            "TEST ACCURACY FOR ADAM Optimizer: 0.9825999736785889\n",
            "Score is [0.07978461757874097, 0.9825999736785889]\n"
          ],
          "name": "stdout"
        }
      ]
    },
    {
      "cell_type": "markdown",
      "metadata": {
        "id": "X-LmyeAiA4i-",
        "colab_type": "text"
      },
      "source": [
        "LET SEE THE TRAININ HISTORY OF OUR MODEL USING ADAM OPTIMIZER"
      ]
    },
    {
      "cell_type": "code",
      "metadata": {
        "id": "rJSegK1cA28e",
        "colab_type": "code",
        "colab": {
          "base_uri": "https://localhost:8080/",
          "height": 34
        },
        "outputId": "4d65f1c8-dabc-42c8-8482-588a0d8d43c2"
      },
      "source": [
        "# list all data in history\n",
        "print(model_fit_adam.history.keys())"
      ],
      "execution_count": 18,
      "outputs": [
        {
          "output_type": "stream",
          "text": [
            "dict_keys(['val_loss', 'val_accuracy', 'loss', 'accuracy'])\n"
          ],
          "name": "stdout"
        }
      ]
    },
    {
      "cell_type": "code",
      "metadata": {
        "id": "uCjyJnzIBOwm",
        "colab_type": "code",
        "colab": {
          "base_uri": "https://localhost:8080/",
          "height": 295
        },
        "outputId": "19eeedb6-a4f0-41ed-9791-a1ffaec15fb5"
      },
      "source": [
        "# summarize history for accuracy\n",
        "plt.plot(model_fit_adam.history['accuracy'])\n",
        "plt.plot(model_fit_adam.history['val_accuracy'])\n",
        "plt.title('model accuracy')\n",
        "plt.ylabel('accuracy')\n",
        "plt.xlabel('epoch')\n",
        "plt.legend(['train', 'test'], loc='upper left')\n",
        "plt.show()"
      ],
      "execution_count": 19,
      "outputs": [
        {
          "output_type": "display_data",
          "data": {
            "image/png": "[encoded data removed]",
            "text/plain": [
              "<Figure size 432x288 with 1 Axes>"
            ]
          },
          "metadata": {
            "tags": [],
            "needs_background": "light"
          }
        }
      ]
    },
    {
      "cell_type": "code",
      "metadata": {
        "id": "W-WaqhiuBbFp",
        "colab_type": "code",
        "colab": {
          "base_uri": "https://localhost:8080/",
          "height": 295
        },
        "outputId": "289ddd2e-405e-4416-c5e0-e265022200dd"
      },
      "source": [
        "# summarize history for loss\n",
        "plt.plot(model_fit_adam.history['loss'])\n",
        "plt.plot(model_fit_adam.history['val_loss'])\n",
        "plt.title('model loss')\n",
        "plt.ylabel('loss')\n",
        "plt.xlabel('epoch')\n",
        "plt.legend(['train', 'test'], loc='upper right')\n",
        "plt.show()"
      ],
      "execution_count": 20,
      "outputs": [
        {
          "output_type": "display_data",
          "data": {
            "image/png": "[encoded data removed]",
            "text/plain": [
              "<Figure size 432x288 with 1 Axes>"
            ]
          },
          "metadata": {
            "tags": [],
            "needs_background": "light"
          }
        }
      ]
    },
    {
      "cell_type": "code",
      "metadata": {
        "id": "yFZfZHYkC8o5",
        "colab_type": "code",
        "colab": {
          "base_uri": "https://localhost:8080/",
          "height": 731
        },
        "outputId": "5ba2f225-7019-4658-c2bd-c4c9ff9d0412"
      },
      "source": [
        "#let compile our model using RMSprop OPTIMIZER\n",
        "OPTIMIZER_3 = RMSprop()\n",
        "model.compile(loss='categorical_crossentropy', optimizer=OPTIMIZER_3, metrics=['accuracy'])\n",
        "\n",
        "#let fit our model with X_train and y_train\n",
        "model_fit_RMSprop = model.fit(X_train, y_train, batch_size=BATCH_SIZE, epochs=20, validation_split=VALIDATION_SPLIT)\n",
        "\n",
        "#Let score(evaluate) our model using accuracy as metrics which we compile above\n",
        "score = model.evaluate(X_test, y_test, verbose=VERBOSE)"
      ],
      "execution_count": 21,
      "outputs": [
        {
          "output_type": "stream",
          "text": [
            "Train on 48000 samples, validate on 12000 samples\n",
            "Epoch 1/20\n",
            "48000/48000 [==============================] - 6s 122us/step - loss: 0.0277 - accuracy: 0.9923 - val_loss: 0.1222 - val_accuracy: 0.9816\n",
            "Epoch 2/20\n",
            "48000/48000 [==============================] - 6s 121us/step - loss: 0.0250 - accuracy: 0.9932 - val_loss: 0.1192 - val_accuracy: 0.9826\n",
            "Epoch 3/20\n",
            "48000/48000 [==============================] - 6s 116us/step - loss: 0.0254 - accuracy: 0.9934 - val_loss: 0.1295 - val_accuracy: 0.9812\n",
            "Epoch 4/20\n",
            "48000/48000 [==============================] - 6s 118us/step - loss: 0.0237 - accuracy: 0.9939 - val_loss: 0.1383 - val_accuracy: 0.9812\n",
            "Epoch 5/20\n",
            "48000/48000 [==============================] - 6s 120us/step - loss: 0.0258 - accuracy: 0.9939 - val_loss: 0.1427 - val_accuracy: 0.9821\n",
            "Epoch 6/20\n",
            "48000/48000 [==============================] - 6s 121us/step - loss: 0.0257 - accuracy: 0.9941 - val_loss: 0.1449 - val_accuracy: 0.9815\n",
            "Epoch 7/20\n",
            "48000/48000 [==============================] - 7s 149us/step - loss: 0.0254 - accuracy: 0.9938 - val_loss: 0.1538 - val_accuracy: 0.9813\n",
            "Epoch 8/20\n",
            "48000/48000 [==============================] - 6s 126us/step - loss: 0.0242 - accuracy: 0.9940 - val_loss: 0.1585 - val_accuracy: 0.9816\n",
            "Epoch 9/20\n",
            "48000/48000 [==============================] - 6s 117us/step - loss: 0.0270 - accuracy: 0.9939 - val_loss: 0.1470 - val_accuracy: 0.9823\n",
            "Epoch 10/20\n",
            "48000/48000 [==============================] - 6s 118us/step - loss: 0.0243 - accuracy: 0.9942 - val_loss: 0.1596 - val_accuracy: 0.9819\n",
            "Epoch 11/20\n",
            "48000/48000 [==============================] - 6s 118us/step - loss: 0.0258 - accuracy: 0.9940 - val_loss: 0.1682 - val_accuracy: 0.9812\n",
            "Epoch 12/20\n",
            "48000/48000 [==============================] - 6s 119us/step - loss: 0.0253 - accuracy: 0.9946 - val_loss: 0.1692 - val_accuracy: 0.9812\n",
            "Epoch 13/20\n",
            "48000/48000 [==============================] - 6s 118us/step - loss: 0.0250 - accuracy: 0.9944 - val_loss: 0.1683 - val_accuracy: 0.9811\n",
            "Epoch 14/20\n",
            "48000/48000 [==============================] - 6s 118us/step - loss: 0.0237 - accuracy: 0.9949 - val_loss: 0.1713 - val_accuracy: 0.9817\n",
            "Epoch 15/20\n",
            "48000/48000 [==============================] - 6s 118us/step - loss: 0.0257 - accuracy: 0.9942 - val_loss: 0.1792 - val_accuracy: 0.9803\n",
            "Epoch 16/20\n",
            "48000/48000 [==============================] - 6s 115us/step - loss: 0.0243 - accuracy: 0.9948 - val_loss: 0.1757 - val_accuracy: 0.9821\n",
            "Epoch 17/20\n",
            "48000/48000 [==============================] - 6s 116us/step - loss: 0.0277 - accuracy: 0.9944 - val_loss: 0.1810 - val_accuracy: 0.9812\n",
            "Epoch 18/20\n",
            "48000/48000 [==============================] - 6s 118us/step - loss: 0.0286 - accuracy: 0.9937 - val_loss: 0.1676 - val_accuracy: 0.9811\n",
            "Epoch 19/20\n",
            "48000/48000 [==============================] - 6s 116us/step - loss: 0.0254 - accuracy: 0.9948 - val_loss: 0.1856 - val_accuracy: 0.9815\n",
            "Epoch 20/20\n",
            "48000/48000 [==============================] - 6s 117us/step - loss: 0.0298 - accuracy: 0.9942 - val_loss: 0.1943 - val_accuracy: 0.9800\n",
            "10000/10000 [==============================] - 1s 58us/step\n"
          ],
          "name": "stdout"
        }
      ]
    },
    {
      "cell_type": "code",
      "metadata": {
        "id": "-UXRujA8DTAU",
        "colab_type": "code",
        "colab": {
          "base_uri": "https://localhost:8080/",
          "height": 68
        },
        "outputId": "829d8af2-cd61-4488-b899-f626d2031c2e"
      },
      "source": [
        "#let print our score RMSprop OPTIMIZER\n",
        "print('TEST SCORE FOR RMSprop Optimizer:',score[0])\n",
        "print('TEST ACCURACY FOR RMSprop Optimizer:',score[1])\n",
        "print('Score is',score)"
      ],
      "execution_count": 22,
      "outputs": [
        {
          "output_type": "stream",
          "text": [
            "TEST SCORE FOR RMSprop Optimizer: 0.18142753544931503\n",
            "TEST ACCURACY FOR RMSprop Optimizer: 0.9815999865531921\n",
            "Score is [0.18142753544931503, 0.9815999865531921]\n"
          ],
          "name": "stdout"
        }
      ]
    },
    {
      "cell_type": "markdown",
      "metadata": {
        "id": "PZtkDQClBqg3",
        "colab_type": "text"
      },
      "source": [
        "LET SEE THE TRAININ HISTORY OF OUR MODEL USING RMSprop OPTIMIZER"
      ]
    },
    {
      "cell_type": "code",
      "metadata": {
        "id": "H26HaFI9Bq5G",
        "colab_type": "code",
        "colab": {
          "base_uri": "https://localhost:8080/",
          "height": 34
        },
        "outputId": "985bec67-22be-4136-d70e-ca472c729d82"
      },
      "source": [
        "# list all data in history\n",
        "print(model_fit_RMSprop.history.keys())"
      ],
      "execution_count": 23,
      "outputs": [
        {
          "output_type": "stream",
          "text": [
            "dict_keys(['val_loss', 'val_accuracy', 'loss', 'accuracy'])\n"
          ],
          "name": "stdout"
        }
      ]
    },
    {
      "cell_type": "code",
      "metadata": {
        "id": "h_R-g_qNB5IN",
        "colab_type": "code",
        "colab": {
          "base_uri": "https://localhost:8080/",
          "height": 295
        },
        "outputId": "7ac8c83d-c790-43fe-d19b-835912fef90a"
      },
      "source": [
        "# summarize history for accuracy\n",
        "plt.plot(model_fit_RMSprop.history['accuracy'])\n",
        "plt.plot(model_fit_RMSprop.history['val_accuracy'])\n",
        "plt.title('model accuracy')\n",
        "plt.ylabel('accuracy')\n",
        "plt.xlabel('epoch')\n",
        "plt.legend(['train', 'test'], loc='center left')\n",
        "plt.show()"
      ],
      "execution_count": 24,
      "outputs": [
        {
          "output_type": "display_data",
          "data": {
            "image/png": "[encoded data removed]",
            "text/plain": [
              "<Figure size 432x288 with 1 Axes>"
            ]
          },
          "metadata": {
            "tags": [],
            "needs_background": "light"
          }
        }
      ]
    },
    {
      "cell_type": "code",
      "metadata": {
        "id": "TWbZbV8BB-1w",
        "colab_type": "code",
        "colab": {
          "base_uri": "https://localhost:8080/",
          "height": 295
        },
        "outputId": "0c109e09-9b31-4553-f3f6-ee2ac0109253"
      },
      "source": [
        "# summarize history for loss\n",
        "plt.plot(model_fit_RMSprop.history['loss'])\n",
        "plt.plot(model_fit_RMSprop.history['val_loss'])\n",
        "plt.title('model loss')\n",
        "plt.ylabel('loss')\n",
        "plt.xlabel('epoch')\n",
        "plt.legend(['train', 'test'], loc='upper left')\n",
        "plt.show()"
      ],
      "execution_count": 25,
      "outputs": [
        {
          "output_type": "display_data",
          "data": {
            "image/png": "[encoded data removed]",
            "text/plain": [
              "<Figure size 432x288 with 1 Axes>"
            ]
          },
          "metadata": {
            "tags": [],
            "needs_background": "light"
          }
        }
      ]
    }
  ]
}