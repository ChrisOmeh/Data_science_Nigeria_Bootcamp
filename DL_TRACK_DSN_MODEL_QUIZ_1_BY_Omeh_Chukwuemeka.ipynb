{
  "nbformat": 4,
  "nbformat_minor": 0,
  "metadata": {
    "colab": {
      "name": "DL TRACK DSN MODEL QUIZ_1 BY Omeh Chukwuemeka",
      "provenance": [],
      "authorship_tag": "ABX9TyPZJgrYtTxzDWyUS+vpNS8O",
      "include_colab_link": true
    },
    "kernelspec": {
      "name": "python3",
      "display_name": "Python 3"
    }
  },
  "cells": [
    {
      "cell_type": "markdown",
      "metadata": {
        "id": "view-in-github",
        "colab_type": "text"
      },
      "source": [
        "<a href=\"https://colab.research.google.com/github/ProsperOmeh/Data_science_Nigeria/blob/master/DL_TRACK_DSN_MODEL_QUIZ_1_BY_Omeh_Chukwuemeka.ipynb\" target=\"_parent\"><img src=\"https://colab.research.google.com/assets/colab-badge.svg\" alt=\"Open In Colab\"/></a>"
      ]
    },
    {
      "cell_type": "code",
      "metadata": {
        "id": "e7SSdEkJpc7U",
        "colab_type": "code",
        "cellView": "both",
        "colab": {
          "base_uri": "https://localhost:8080/",
          "height": 34
        },
        "outputId": "1130f62a-1aa7-4399-d6fa-57fd224502a3"
      },
      "source": [
        "from __future__ import print_function\n",
        "import numpy as np\n",
        "from keras.models import Sequential\n",
        "from keras.optimizers import SGD, Adam,RMSprop\n",
        "from keras.layers.core import Dense, Activation, Dropout\n",
        "from keras.datasets import mnist\n",
        "from keras.utils import np_utils\n",
        "from matplotlib import pyplot as plt\n",
        "import pandas as pd\n",
        "np.random.seed(1671)\n",
        "%matplotlib inline"
      ],
      "execution_count": null,
      "outputs": [
        {
          "output_type": "stream",
          "text": [
            "Using TensorFlow backend.\n"
          ],
          "name": "stderr"
        }
      ]
    },
    {
      "cell_type": "markdown",
      "metadata": {
        "id": "PR_Bf4PGs1NG",
        "colab_type": "text"
      },
      "source": [
        "Hidden1 = 300\n",
        "Hidden2 = 500\n",
        "Hidden3 = 100\n",
        "Output neuron = 10\n",
        "Optimizer = Adam Optimizer\n",
        "Loss = Categorical cross entropy."
      ]
    },
    {
      "cell_type": "code",
      "metadata": {
        "id": "9UZKmOQZsJPQ",
        "colab_type": "code",
        "colab": {}
      },
      "source": [
        "#let define our variables\n",
        "N_EPOCHS = 20\n",
        "BATCH_SIZE = 128\n",
        "VERBOSE = 1\n",
        "NB_CLASSES = 10 #That is number of outputs\n",
        "OPTIMIZER = SGD() #Instantiating the Optimizer we imported\n",
        "OPTIMIZER_2 = Adam()\n",
        "OPTIMIZER_3 = RMSprop()\n",
        "N_HIDDEN_1 = 300\n",
        "N_HIDDEN_2 = 500\n",
        "N_HIDDEN_3 = 100\n",
        "DROPOUT = 0.3\n",
        "#OUTPUT NEURON\n",
        "OUTPUT_NEURON = 10\n",
        "\n",
        "#VALIDATION SPLIT FOR OUR TRAIN AND TEST DATASET\n",
        "VALIDATION_SPLIT = 0.2\n"
      ],
      "execution_count": null,
      "outputs": []
    },
    {
      "cell_type": "code",
      "metadata": {
        "id": "8OrhuCBJuBjZ",
        "colab_type": "code",
        "colab": {
          "base_uri": "https://localhost:8080/",
          "height": 119
        },
        "outputId": "a6603808-c99d-4c64-89bc-310c451c71bd"
      },
      "source": [
        "#let split our dataset into train and test\n",
        "(X_train,y_train), (X_test, y_test) = mnist.load_data()\n",
        "print('Number of X_train are:', X_train.shape)\n",
        "print('Number of y_train are:', y_train.shape)\n",
        "print('Number of X_test are:', X_test.shape)\n",
        "print('Number of y_test are:', y_test.shape)"
      ],
      "execution_count": null,
      "outputs": [
        {
          "output_type": "stream",
          "text": [
            "Downloading data from https://s3.amazonaws.com/img-datasets/mnist.npz\n",
            "11493376/11490434 [==============================] - 1s 0us/step\n",
            "Number of X_train are: (60000, 28, 28)\n",
            "Number of y_train are: (60000,)\n",
            "Number of X_test are: (10000, 28, 28)\n",
            "Number of y_test are: (10000,)\n"
          ],
          "name": "stdout"
        }
      ]
    },
    {
      "cell_type": "code",
      "metadata": {
        "id": "_o2Z_WABupzF",
        "colab_type": "code",
        "colab": {
          "base_uri": "https://localhost:8080/",
          "height": 51
        },
        "outputId": "4511333e-f049-4cb0-ba31-726911b60ffd"
      },
      "source": [
        "#The width and height of our mnist image is 28 * 28\n",
        "#28 * 28 = 784\n",
        "#Let reshaped our dataset(X_train and X_test) to 784 with regards to \n",
        "RESHAPED = 784\n",
        "X_train = X_train.reshape(60000,RESHAPED)\n",
        "X_test = X_test.reshape(10000,RESHAPED)\n",
        "print('X_train shape is:', X_train.shape)\n",
        "print('X_test shape is:', X_test.shape)"
      ],
      "execution_count": null,
      "outputs": [
        {
          "output_type": "stream",
          "text": [
            "X_train shape is: (60000, 784)\n",
            "X_test shape is: (10000, 784)\n"
          ],
          "name": "stdout"
        }
      ]
    },
    {
      "cell_type": "code",
      "metadata": {
        "id": "WMlCuG_Ft78T",
        "colab_type": "code",
        "colab": {
          "base_uri": "https://localhost:8080/",
          "height": 34
        },
        "outputId": "454000ff-6065-4f78-f9ba-e6390e472e4a"
      },
      "source": [
        "print(X_train.size)"
      ],
      "execution_count": null,
      "outputs": [
        {
          "output_type": "stream",
          "text": [
            "47040000\n"
          ],
          "name": "stdout"
        }
      ]
    },
    {
      "cell_type": "code",
      "metadata": {
        "id": "fjuA4RVSwsB5",
        "colab_type": "code",
        "colab": {
          "base_uri": "https://localhost:8080/",
          "height": 54
        },
        "outputId": "7787cd3e-9ce3-4b15-fba7-5df1bd255372"
      },
      "source": [
        "plt.imshow(X_train[:5], interpolation='nearest')\n",
        "plt.show()"
      ],
      "execution_count": null,
      "outputs": [
        {
          "output_type": "display_data",
          "data": {
            "image/png": "[encoded data removed]",
            "text/plain": [
              "<Figure size 432x288 with 1 Axes>"
            ]
          },
          "metadata": {
            "tags": [],
            "needs_background": "light"
          }
        }
      ]
    },
    {
      "cell_type": "code",
      "metadata": {
        "id": "vLJL9BTvvjPU",
        "colab_type": "code",
        "colab": {
          "base_uri": "https://localhost:8080/",
          "height": 51
        },
        "outputId": "9eb53fb4-4845-41e7-acf9-a7a551de195d"
      },
      "source": [
        "#Let convert our X_train and _X_test to float data type\n",
        "X_train = X_train.astype(\"float32\")\n",
        "X_test = X_test.astype(\"float32\")\n",
        "print(X_train.dtype)\n",
        "print(X_test.dtype)"
      ],
      "execution_count": null,
      "outputs": [
        {
          "output_type": "stream",
          "text": [
            "float32\n",
            "float32\n"
          ],
          "name": "stdout"
        }
      ]
    },
    {
      "cell_type": "code",
      "metadata": {
        "id": "vuI0d9HWv6Rg",
        "colab_type": "code",
        "colab": {
          "base_uri": "https://localhost:8080/",
          "height": 51
        },
        "outputId": "e00f66dc-0211-4f1a-e5f4-9dfdcb93062c"
      },
      "source": [
        "#It will be good if we NORMALIZE our X_train and X_test by using colour channel of 255 so the range can be between -1 and 1\n",
        "X_train = X_train/255\n",
        "X_test = X_test/255\n",
        "print(X_train.shape[0], 'Sample of Training data(X_train)')\n",
        "print(X_test.shape[0], 'Sample of Testing data(X_test)')"
      ],
      "execution_count": null,
      "outputs": [
        {
          "output_type": "stream",
          "text": [
            "60000 Sample of Training data(X_train)\n",
            "10000 Sample of Testing data(X_test)\n"
          ],
          "name": "stdout"
        }
      ]
    },
    {
      "cell_type": "code",
      "metadata": {
        "id": "6k2fzba8w6hB",
        "colab_type": "code",
        "colab": {
          "base_uri": "https://localhost:8080/",
          "height": 68
        },
        "outputId": "701922d8-1ecf-4c87-c56c-9004100e0542"
      },
      "source": [
        "#since is an image dataset, let convert the class vector i.e y_train and y_test in to binary class matrices\n",
        "y_train = np_utils.to_categorical(y_train, NB_CLASSES)\n",
        "y_test = np_utils.to_categorical(y_test, NB_CLASSES)\n",
        "print(y_train.dtype)\n",
        "print(y_test.dtype)\n",
        "y_train.shape"
      ],
      "execution_count": null,
      "outputs": [
        {
          "output_type": "stream",
          "text": [
            "float32\n",
            "float32\n"
          ],
          "name": "stdout"
        },
        {
          "output_type": "execute_result",
          "data": {
            "text/plain": [
              "(60000, 10)"
            ]
          },
          "metadata": {
            "tags": []
          },
          "execution_count": 9
        }
      ]
    },
    {
      "cell_type": "markdown",
      "metadata": {
        "id": "mYG1ZgkUyGO6",
        "colab_type": "text"
      },
      "source": [
        "We have "
      ]
    },
    {
      "cell_type": "code",
      "metadata": {
        "id": "x-tQrCXhyVl_",
        "colab_type": "code",
        "colab": {
          "base_uri": "https://localhost:8080/",
          "height": 527
        },
        "outputId": "cd5b8847-3e53-4156-91ec-492f46a24aab"
      },
      "source": [
        "model = Sequential()\n",
        "model.add(Dense(N_HIDDEN_1, input_shape = (RESHAPED,)))\n",
        "model.add(Activation('relu'))\n",
        "model.add(Dropout(DROPOUT))\n",
        "#Hidden layers\n",
        "model.add(Dense(N_HIDDEN_2))\n",
        "model.add(Activation('relu'))\n",
        "model.add(Dropout(DROPOUT))\n",
        "model.add(Dense(N_HIDDEN_3))\n",
        "model.add(Activation('relu'))\n",
        "model.add(Dropout(DROPOUT))\n",
        "\n",
        "#for output layer\n",
        "model.add(Dense(OUTPUT_NEURON))\n",
        "model.add(Activation('softmax'))\n",
        "model.summary()\n"
      ],
      "execution_count": null,
      "outputs": [
        {
          "output_type": "stream",
          "text": [
            "Model: \"sequential_1\"\n",
            "_________________________________________________________________\n",
            "Layer (type)                 Output Shape              Param #   \n",
            "=================================================================\n",
            "dense_1 (Dense)              (None, 300)               235500    \n",
            "_________________________________________________________________\n",
            "activation_1 (Activation)    (None, 300)               0         \n",
            "_________________________________________________________________\n",
            "dropout_1 (Dropout)          (None, 300)               0         \n",
            "_________________________________________________________________\n",
            "dense_2 (Dense)              (None, 500)               150500    \n",
            "_________________________________________________________________\n",
            "activation_2 (Activation)    (None, 500)               0         \n",
            "_________________________________________________________________\n",
            "dropout_2 (Dropout)          (None, 500)               0         \n",
            "_________________________________________________________________\n",
            "dense_3 (Dense)              (None, 100)               50100     \n",
            "_________________________________________________________________\n",
            "activation_3 (Activation)    (None, 100)               0         \n",
            "_________________________________________________________________\n",
            "dropout_3 (Dropout)          (None, 100)               0         \n",
            "_________________________________________________________________\n",
            "dense_4 (Dense)              (None, 10)                1010      \n",
            "_________________________________________________________________\n",
            "activation_4 (Activation)    (None, 10)                0         \n",
            "=================================================================\n",
            "Total params: 437,110\n",
            "Trainable params: 437,110\n",
            "Non-trainable params: 0\n",
            "_________________________________________________________________\n"
          ],
          "name": "stdout"
        }
      ]
    },
    {
      "cell_type": "code",
      "metadata": {
        "id": "U5E3mWLQ1d5T",
        "colab_type": "code",
        "colab": {
          "base_uri": "https://localhost:8080/",
          "height": 731
        },
        "outputId": "11e00a86-4acc-4d8f-808c-580f69be4e92"
      },
      "source": [
        "#let compile our model\n",
        "model.compile(loss='categorical_crossentropy', optimizer=OPTIMIZER, metrics=['accuracy'])\n",
        "\n",
        "#let fit our model with X_train and y_train\n",
        "model_fit = model.fit(X_train, y_train, batch_size=BATCH_SIZE, epochs=20, validation_split=VALIDATION_SPLIT)\n",
        "\n",
        "#Let score(evaluate) our model using accuracy as metrics which we compile above\n",
        "score = model.evaluate(X_test, y_test, verbose=VERBOSE)"
      ],
      "execution_count": null,
      "outputs": [
        {
          "output_type": "stream",
          "text": [
            "Train on 48000 samples, validate on 12000 samples\n",
            "Epoch 1/20\n",
            "48000/48000 [==============================] - 5s 107us/step - loss: 1.8425 - accuracy: 0.4046 - val_loss: 0.9387 - val_accuracy: 0.8068\n",
            "Epoch 2/20\n",
            "48000/48000 [==============================] - 5s 103us/step - loss: 0.9187 - accuracy: 0.7157 - val_loss: 0.4822 - val_accuracy: 0.8731\n",
            "Epoch 3/20\n",
            "48000/48000 [==============================] - 5s 102us/step - loss: 0.6512 - accuracy: 0.8009 - val_loss: 0.3771 - val_accuracy: 0.8976\n",
            "Epoch 4/20\n",
            "48000/48000 [==============================] - 5s 100us/step - loss: 0.5443 - accuracy: 0.8353 - val_loss: 0.3255 - val_accuracy: 0.9080\n",
            "Epoch 5/20\n",
            "48000/48000 [==============================] - 5s 102us/step - loss: 0.4831 - accuracy: 0.8550 - val_loss: 0.2961 - val_accuracy: 0.9139\n",
            "Epoch 6/20\n",
            "48000/48000 [==============================] - 5s 103us/step - loss: 0.4398 - accuracy: 0.8702 - val_loss: 0.2726 - val_accuracy: 0.9210\n",
            "Epoch 7/20\n",
            "48000/48000 [==============================] - 5s 103us/step - loss: 0.4068 - accuracy: 0.8792 - val_loss: 0.2567 - val_accuracy: 0.9245\n",
            "Epoch 8/20\n",
            "48000/48000 [==============================] - 5s 102us/step - loss: 0.3773 - accuracy: 0.8884 - val_loss: 0.2412 - val_accuracy: 0.9291\n",
            "Epoch 9/20\n",
            "48000/48000 [==============================] - 5s 102us/step - loss: 0.3548 - accuracy: 0.8974 - val_loss: 0.2280 - val_accuracy: 0.9323\n",
            "Epoch 10/20\n",
            "48000/48000 [==============================] - 5s 101us/step - loss: 0.3334 - accuracy: 0.9034 - val_loss: 0.2172 - val_accuracy: 0.9353\n",
            "Epoch 11/20\n",
            "48000/48000 [==============================] - 5s 102us/step - loss: 0.3227 - accuracy: 0.9055 - val_loss: 0.2079 - val_accuracy: 0.9383\n",
            "Epoch 12/20\n",
            "48000/48000 [==============================] - 5s 101us/step - loss: 0.3037 - accuracy: 0.9114 - val_loss: 0.1973 - val_accuracy: 0.9408\n",
            "Epoch 13/20\n",
            "48000/48000 [==============================] - 5s 102us/step - loss: 0.2970 - accuracy: 0.9123 - val_loss: 0.1898 - val_accuracy: 0.9431\n",
            "Epoch 14/20\n",
            "48000/48000 [==============================] - 5s 105us/step - loss: 0.2839 - accuracy: 0.9172 - val_loss: 0.1821 - val_accuracy: 0.9459\n",
            "Epoch 15/20\n",
            "48000/48000 [==============================] - 5s 107us/step - loss: 0.2737 - accuracy: 0.9197 - val_loss: 0.1755 - val_accuracy: 0.9488\n",
            "Epoch 16/20\n",
            "48000/48000 [==============================] - 5s 107us/step - loss: 0.2626 - accuracy: 0.9240 - val_loss: 0.1702 - val_accuracy: 0.9499\n",
            "Epoch 17/20\n",
            "48000/48000 [==============================] - 5s 101us/step - loss: 0.2552 - accuracy: 0.9261 - val_loss: 0.1652 - val_accuracy: 0.9517\n",
            "Epoch 18/20\n",
            "48000/48000 [==============================] - 5s 101us/step - loss: 0.2421 - accuracy: 0.9291 - val_loss: 0.1594 - val_accuracy: 0.9523\n",
            "Epoch 19/20\n",
            "48000/48000 [==============================] - 5s 102us/step - loss: 0.2368 - accuracy: 0.9301 - val_loss: 0.1559 - val_accuracy: 0.9537\n",
            "Epoch 20/20\n",
            "48000/48000 [==============================] - 5s 100us/step - loss: 0.2289 - accuracy: 0.9335 - val_loss: 0.1516 - val_accuracy: 0.9543\n",
            "10000/10000 [==============================] - 1s 53us/step\n"
          ],
          "name": "stdout"
        }
      ]
    },
    {
      "cell_type": "code",
      "metadata": {
        "id": "2t9pSjTM26or",
        "colab_type": "code",
        "colab": {
          "base_uri": "https://localhost:8080/",
          "height": 68
        },
        "outputId": "f8c026b0-bdcd-4125-99e3-031584189a02"
      },
      "source": [
        "#let print our score for SGD OPIMIZER\n",
        "print('TEST SCORE SGD Optimizer:',score[0])\n",
        "print('TEST ACCURACY FOR SGD Optimizer:',score[1])\n",
        "print('Score is',score)"
      ],
      "execution_count": null,
      "outputs": [
        {
          "output_type": "stream",
          "text": [
            "TEST SCORE SGD Optimizer: 0.15526064120195807\n",
            "TEST ACCURACY FOR SGD Optimizer: 0.9527000188827515\n",
            "Score is [0.15526064120195807, 0.9527000188827515]\n"
          ],
          "name": "stdout"
        }
      ]
    },
    {
      "cell_type": "code",
      "metadata": {
        "id": "5SP01irgCckg",
        "colab_type": "code",
        "colab": {
          "base_uri": "https://localhost:8080/",
          "height": 731
        },
        "outputId": "8c01b315-c8d4-4493-f6ca-0380392798e7"
      },
      "source": [
        "#let compile our model using ADAM OPTIMIZER\n",
        "model.compile(loss='categorical_crossentropy', optimizer=OPTIMIZER_2, metrics=['accuracy'])\n",
        "\n",
        "#let fit our model with X_train and y_train\n",
        "model_fit = model.fit(X_train, y_train, batch_size=BATCH_SIZE, epochs=20, validation_split=VALIDATION_SPLIT)\n",
        "\n",
        "#Let score(evaluate) our model using accuracy as metrics which we compile above\n",
        "score = model.evaluate(X_test, y_test, verbose=VERBOSE)"
      ],
      "execution_count": null,
      "outputs": [
        {
          "output_type": "stream",
          "text": [
            "Train on 48000 samples, validate on 12000 samples\n",
            "Epoch 1/20\n",
            "48000/48000 [==============================] - 6s 125us/step - loss: 0.2128 - accuracy: 0.9373 - val_loss: 0.1207 - val_accuracy: 0.9639\n",
            "Epoch 2/20\n",
            "48000/48000 [==============================] - 6s 118us/step - loss: 0.1426 - accuracy: 0.9589 - val_loss: 0.1028 - val_accuracy: 0.9694\n",
            "Epoch 3/20\n",
            "48000/48000 [==============================] - 6s 116us/step - loss: 0.1121 - accuracy: 0.9677 - val_loss: 0.0930 - val_accuracy: 0.9721\n",
            "Epoch 4/20\n",
            "48000/48000 [==============================] - 6s 118us/step - loss: 0.0929 - accuracy: 0.9717 - val_loss: 0.0845 - val_accuracy: 0.9758\n",
            "Epoch 5/20\n",
            "48000/48000 [==============================] - 6s 117us/step - loss: 0.0838 - accuracy: 0.9741 - val_loss: 0.0808 - val_accuracy: 0.9768\n",
            "Epoch 6/20\n",
            "48000/48000 [==============================] - 6s 117us/step - loss: 0.0715 - accuracy: 0.9783 - val_loss: 0.0901 - val_accuracy: 0.9743\n",
            "Epoch 7/20\n",
            "48000/48000 [==============================] - 6s 116us/step - loss: 0.0675 - accuracy: 0.9795 - val_loss: 0.0743 - val_accuracy: 0.9788\n",
            "Epoch 8/20\n",
            "48000/48000 [==============================] - 6s 117us/step - loss: 0.0608 - accuracy: 0.9812 - val_loss: 0.0777 - val_accuracy: 0.9786\n",
            "Epoch 9/20\n",
            "48000/48000 [==============================] - 6s 117us/step - loss: 0.0539 - accuracy: 0.9830 - val_loss: 0.0804 - val_accuracy: 0.9787\n",
            "Epoch 10/20\n",
            "48000/48000 [==============================] - 6s 117us/step - loss: 0.0507 - accuracy: 0.9841 - val_loss: 0.0770 - val_accuracy: 0.9787\n",
            "Epoch 11/20\n",
            "48000/48000 [==============================] - 6s 119us/step - loss: 0.0502 - accuracy: 0.9839 - val_loss: 0.0802 - val_accuracy: 0.9787\n",
            "Epoch 12/20\n",
            "48000/48000 [==============================] - 6s 118us/step - loss: 0.0466 - accuracy: 0.9854 - val_loss: 0.0806 - val_accuracy: 0.9795\n",
            "Epoch 13/20\n",
            "48000/48000 [==============================] - 6s 117us/step - loss: 0.0436 - accuracy: 0.9863 - val_loss: 0.0804 - val_accuracy: 0.9795\n",
            "Epoch 14/20\n",
            "48000/48000 [==============================] - 6s 118us/step - loss: 0.0409 - accuracy: 0.9870 - val_loss: 0.0814 - val_accuracy: 0.9799\n",
            "Epoch 15/20\n",
            "48000/48000 [==============================] - 6s 117us/step - loss: 0.0389 - accuracy: 0.9876 - val_loss: 0.0815 - val_accuracy: 0.9775\n",
            "Epoch 16/20\n",
            "48000/48000 [==============================] - 6s 118us/step - loss: 0.0367 - accuracy: 0.9882 - val_loss: 0.0810 - val_accuracy: 0.9809\n",
            "Epoch 17/20\n",
            "48000/48000 [==============================] - 6s 120us/step - loss: 0.0377 - accuracy: 0.9884 - val_loss: 0.0769 - val_accuracy: 0.9794\n",
            "Epoch 18/20\n",
            "48000/48000 [==============================] - 6s 120us/step - loss: 0.0365 - accuracy: 0.9889 - val_loss: 0.0749 - val_accuracy: 0.9811\n",
            "Epoch 19/20\n",
            "48000/48000 [==============================] - 6s 118us/step - loss: 0.0334 - accuracy: 0.9894 - val_loss: 0.0775 - val_accuracy: 0.9792\n",
            "Epoch 20/20\n",
            "48000/48000 [==============================] - 6s 119us/step - loss: 0.0319 - accuracy: 0.9900 - val_loss: 0.0812 - val_accuracy: 0.9818\n",
            "10000/10000 [==============================] - 0s 48us/step\n"
          ],
          "name": "stdout"
        }
      ]
    },
    {
      "cell_type": "code",
      "metadata": {
        "id": "RAGehgkOC7Yj",
        "colab_type": "code",
        "colab": {
          "base_uri": "https://localhost:8080/",
          "height": 68
        },
        "outputId": "c14e881d-f0f2-49f2-9d50-e668fefeccb3"
      },
      "source": [
        "#let print our score ADAM OPTIMIZER\n",
        "print('TEST SCORE FOR ADAM Optimizer:',score[0])\n",
        "print('TEST ACCURACY FOR ADAM Optimizer:',score[1])\n",
        "print('Score is',score)"
      ],
      "execution_count": null,
      "outputs": [
        {
          "output_type": "stream",
          "text": [
            "TEST SCORE FOR ADAM Optimizer: 0.07460804407294329\n",
            "TEST ACCURACY FOR ADAM Optimizer: 0.9829000234603882\n",
            "Score is [0.07460804407294329, 0.9829000234603882]\n"
          ],
          "name": "stdout"
        }
      ]
    },
    {
      "cell_type": "code",
      "metadata": {
        "id": "yFZfZHYkC8o5",
        "colab_type": "code",
        "colab": {
          "base_uri": "https://localhost:8080/",
          "height": 731
        },
        "outputId": "32920dcf-f529-46b7-f2f5-cdbcca488f01"
      },
      "source": [
        "#let compile our model using RMSprop OPTIMIZER\n",
        "OPTIMIZER_3 = RMSprop()\n",
        "model.compile(loss='categorical_crossentropy', optimizer=OPTIMIZER_3, metrics=['accuracy'])\n",
        "\n",
        "#let fit our model with X_train and y_train\n",
        "model_fit = model.fit(X_train, y_train, batch_size=BATCH_SIZE, epochs=20, validation_split=VALIDATION_SPLIT)\n",
        "\n",
        "#Let score(evaluate) our model using accuracy as metrics which we compile above\n",
        "score = model.evaluate(X_test, y_test, verbose=VERBOSE)"
      ],
      "execution_count": null,
      "outputs": [
        {
          "output_type": "stream",
          "text": [
            "Train on 48000 samples, validate on 12000 samples\n",
            "Epoch 1/20\n",
            "48000/48000 [==============================] - 6s 115us/step - loss: 0.0260 - accuracy: 0.9923 - val_loss: 0.1060 - val_accuracy: 0.9819\n",
            "Epoch 2/20\n",
            "48000/48000 [==============================] - 5s 112us/step - loss: 0.0241 - accuracy: 0.9936 - val_loss: 0.1222 - val_accuracy: 0.9816\n",
            "Epoch 3/20\n",
            "48000/48000 [==============================] - 5s 112us/step - loss: 0.0246 - accuracy: 0.9936 - val_loss: 0.1159 - val_accuracy: 0.9833\n",
            "Epoch 4/20\n",
            "48000/48000 [==============================] - 5s 112us/step - loss: 0.0241 - accuracy: 0.9939 - val_loss: 0.1294 - val_accuracy: 0.9817\n",
            "Epoch 5/20\n",
            "48000/48000 [==============================] - 5s 112us/step - loss: 0.0237 - accuracy: 0.9945 - val_loss: 0.1360 - val_accuracy: 0.9810\n",
            "Epoch 6/20\n",
            "48000/48000 [==============================] - 5s 110us/step - loss: 0.0257 - accuracy: 0.9938 - val_loss: 0.1268 - val_accuracy: 0.9823\n",
            "Epoch 7/20\n",
            "48000/48000 [==============================] - 5s 110us/step - loss: 0.0253 - accuracy: 0.9941 - val_loss: 0.1361 - val_accuracy: 0.9828\n",
            "Epoch 8/20\n",
            "48000/48000 [==============================] - 5s 111us/step - loss: 0.0232 - accuracy: 0.9944 - val_loss: 0.1380 - val_accuracy: 0.9832\n",
            "Epoch 9/20\n",
            "48000/48000 [==============================] - 5s 112us/step - loss: 0.0271 - accuracy: 0.9941 - val_loss: 0.1380 - val_accuracy: 0.9818\n",
            "Epoch 10/20\n",
            "48000/48000 [==============================] - 5s 110us/step - loss: 0.0268 - accuracy: 0.9938 - val_loss: 0.1421 - val_accuracy: 0.9828\n",
            "Epoch 11/20\n",
            "48000/48000 [==============================] - 5s 111us/step - loss: 0.0240 - accuracy: 0.9943 - val_loss: 0.1383 - val_accuracy: 0.9822\n",
            "Epoch 12/20\n",
            "48000/48000 [==============================] - 5s 111us/step - loss: 0.0258 - accuracy: 0.9945 - val_loss: 0.1495 - val_accuracy: 0.9809\n",
            "Epoch 13/20\n",
            "48000/48000 [==============================] - 5s 112us/step - loss: 0.0262 - accuracy: 0.9943 - val_loss: 0.1609 - val_accuracy: 0.9812\n",
            "Epoch 14/20\n",
            "48000/48000 [==============================] - 5s 113us/step - loss: 0.0250 - accuracy: 0.9942 - val_loss: 0.1582 - val_accuracy: 0.9818\n",
            "Epoch 15/20\n",
            "48000/48000 [==============================] - 5s 108us/step - loss: 0.0237 - accuracy: 0.9945 - val_loss: 0.1629 - val_accuracy: 0.9821\n",
            "Epoch 16/20\n",
            "48000/48000 [==============================] - 5s 107us/step - loss: 0.0248 - accuracy: 0.9944 - val_loss: 0.1507 - val_accuracy: 0.9839\n",
            "Epoch 17/20\n",
            "48000/48000 [==============================] - 5s 106us/step - loss: 0.0259 - accuracy: 0.9944 - val_loss: 0.1632 - val_accuracy: 0.9809\n",
            "Epoch 18/20\n",
            "48000/48000 [==============================] - 5s 106us/step - loss: 0.0276 - accuracy: 0.9943 - val_loss: 0.1543 - val_accuracy: 0.9825\n",
            "Epoch 19/20\n",
            "48000/48000 [==============================] - 5s 105us/step - loss: 0.0241 - accuracy: 0.9947 - val_loss: 0.1815 - val_accuracy: 0.9817\n",
            "Epoch 20/20\n",
            "48000/48000 [==============================] - 5s 105us/step - loss: 0.0256 - accuracy: 0.9947 - val_loss: 0.1591 - val_accuracy: 0.9837\n",
            "10000/10000 [==============================] - 0s 48us/step\n"
          ],
          "name": "stdout"
        }
      ]
    },
    {
      "cell_type": "code",
      "metadata": {
        "id": "-UXRujA8DTAU",
        "colab_type": "code",
        "colab": {
          "base_uri": "https://localhost:8080/",
          "height": 68
        },
        "outputId": "687b1503-8555-4abf-bcc4-ee68d1abce0d"
      },
      "source": [
        "#let print our score RMSprop OPTIMIZER\n",
        "print('TEST SCORE FOR RMSprop Optimizer:',score[0])\n",
        "print('TEST ACCURACY FOR RMSprop Optimizer:',score[1])\n",
        "print('Score is',score)"
      ],
      "execution_count": null,
      "outputs": [
        {
          "output_type": "stream",
          "text": [
            "TEST SCORE FOR RMSprop Optimizer: 0.1748233090677797\n",
            "TEST ACCURACY FOR RMSprop Optimizer: 0.9835000038146973\n",
            "Score is [0.1748233090677797, 0.9835000038146973]\n"
          ],
          "name": "stdout"
        }
      ]
    }
  ]
}