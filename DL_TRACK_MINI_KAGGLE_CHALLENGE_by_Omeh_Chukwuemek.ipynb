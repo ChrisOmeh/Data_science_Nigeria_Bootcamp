{
  "nbformat": 4,
  "nbformat_minor": 0,
  "metadata": {
    "colab": {
      "name": "DL TRACK_MINI_KAGGLE_CHALLENGE by Omeh Chukwuemek.ipynb",
      "provenance": [],
      "collapsed_sections": [],
      "authorship_tag": "ABX9TyM+fdXMvp6vISK7X57BSdY0",
      "include_colab_link": true
    },
    "kernelspec": {
      "name": "python3",
      "display_name": "Python 3"
    }
  },
  "cells": [
    {
      "cell_type": "markdown",
      "metadata": {
        "id": "view-in-github",
        "colab_type": "text"
      },
      "source": [
        "<a href=\"https://colab.research.google.com/github/ProsperOmeh/Data_science_Nigeria/blob/master/DL_TRACK_MINI_KAGGLE_CHALLENGE_by_Omeh_Chukwuemek.ipynb\" target=\"_parent\"><img src=\"https://colab.research.google.com/assets/colab-badge.svg\" alt=\"Open In Colab\"/></a>"
      ]
    },
    {
      "cell_type": "markdown",
      "metadata": {
        "id": "T5fYhSbVc0w7",
        "colab_type": "text"
      },
      "source": [
        "DATA SCIENCE NIGERIA DEEP LEARNING TRACK.\n",
        "Notebook by Omeh Chukwuemeka"
      ]
    },
    {
      "cell_type": "markdown",
      "metadata": {
        "id": "e9yx3450dLwR",
        "colab_type": "text"
      },
      "source": [
        "AIM: This was day 20 challenge where we were tasked to build a simple DL model that will classify an input image as either cats or dogs."
      ]
    },
    {
      "cell_type": "markdown",
      "metadata": {
        "id": "egO6ZuuIc8GS",
        "colab_type": "text"
      },
      "source": [
        "TASK PROBLEM STATEMENT AS STATED BY OUR TUTOR. \n",
        "\n",
        "Hello before we get to dive deep into advanced models for computer vision, watch the first 3 mins of the video and implement this. Build a convolutional Neural Network (CNN) on the cat and dog dataset gotten from kaggle here:\n",
        "\n",
        " Link: https://www.kaggle.com/tongpython/cat-and-dog \n",
        "Note: Find out how to load a kaggle dataset from kaggle to google colab without downloading using Kaggle API token in your account. \n",
        "\n",
        "Use the following information in building your network on colab:\n",
        "\n",
        "A. First convolutional layer (16 filters, kernel size is 5 by 5, activation function is relu, input shape = 28 * 28)\n",
        "B. First Max pooling layer ((2 by 2)\n",
        "C. Second Convolutonal layer (8 filters, kernel size is 3 by 3, activation function is relu)\n",
        "D. Second max pooling layer (2 by 2)\n",
        "E. Flatten the layer\n",
        "F. 1st hidden layer with 500 neurons using relu (Fully connected)\n",
        "G. 2nd hidden layer with 300 neuron using relu (fully connected)\n",
        "H. Output layer with 10 neurons using softmax.\n",
        "I. Compare the performance when your optimizer is 'rmsprop' from when you used 'adam'.\n",
        "J. Using accuracy as your evaluation metric, use 'Categorical cross entropy' as your loss metric.\n",
        "\n",
        "Visualize your training/ testing loss from your training and testing accuracy."
      ]
    },
    {
      "cell_type": "markdown",
      "metadata": {
        "id": "5EFz2TJcdy4V",
        "colab_type": "text"
      },
      "source": [
        "Before i started, i had to download the dataset from kaggle cat-and-dog open challenge. Also, it is worthy of note i got some insights going through several kaggle kernel submission. To download the kaggle dataset to colab, i had to surf the internet for solutions. Luckily i found one from Analytic Vidya medium channel. Link is here https://medium.com/analytics-vidhya/how-to-fetch-kaggle-datasets-into-google-colab-ea682569851a\n",
        "Is the whole processes that was performed till i got the dataset set up in my google drive. Follow the above link and check it out."
      ]
    },
    {
      "cell_type": "code",
      "metadata": {
        "id": "XU_xsUMM3nQS",
        "colab_type": "code",
        "colab": {
          "base_uri": "https://localhost:8080/",
          "height": 122
        },
        "outputId": "0c37fc07-302a-4040-d64b-b96b61f0d454"
      },
      "source": [
        "from google.colab import drive\n",
        "drive.mount('/content/gdrive')"
      ],
      "execution_count": 1,
      "outputs": [
        {
          "output_type": "stream",
          "text": [
            "Go to this URL in a browser: https://accounts.google.com/o/oauth2/auth?client_id=947318989803-6bn6qk8qdgf4n4g3pfee6491hc0brc4i.apps.googleusercontent.com&redirect_uri=urn%3aietf%3awg%3aoauth%3a2.0%3aoob&response_type=code&scope=email%20https%3a%2f%2fwww.googleapis.com%2fauth%2fdocs.test%20https%3a%2f%2fwww.googleapis.com%2fauth%2fdrive%20https%3a%2f%2fwww.googleapis.com%2fauth%2fdrive.photos.readonly%20https%3a%2f%2fwww.googleapis.com%2fauth%2fpeopleapi.readonly\n",
            "\n",
            "Enter your authorization code:\n",
            "··········\n",
            "Mounted at /content/gdrive\n"
          ],
          "name": "stdout"
        }
      ]
    },
    {
      "cell_type": "code",
      "metadata": {
        "id": "WvhJy2ucilDt",
        "colab_type": "code",
        "colab": {
          "base_uri": "https://localhost:8080/",
          "height": 102
        },
        "outputId": "66798316-8b68-47f8-9e8a-53033edb6d24"
      },
      "source": [
        "import os\n",
        "os.environ['KAGGLE_CONFIG_DIR'] = \"/content/gdrive/My Drive/Kaggle\"\n",
        "# /content/gdrive/My Drive/Kaggle is the path where kaggle.json is present in the Google Drive\n",
        "\n",
        "#changing the working directory\n",
        "%cd /content/gdrive/My Drive/Kaggle\n",
        "#Check the present working directory using pwd command\n",
        "\n",
        "#!kaggle datasets download -d tongpython/cat-and-dog\n",
        "!ls"
      ],
      "execution_count": 2,
      "outputs": [
        {
          "output_type": "stream",
          "text": [
            "/content/gdrive/My Drive/Kaggle\n",
            "Adam_model.h5\t\t       clf_weight.pickle  test_set\n",
            "Adam_model.pickle\t       kaggle.json\t  training_set\n",
            "cat-and-dog.zip\t\t       model.h5\n",
            "clf_weight_for_RMSprop.pickle  model_RMSprop.h5\n"
          ],
          "name": "stdout"
        }
      ]
    },
    {
      "cell_type": "code",
      "metadata": {
        "id": "Cbk81plE1Q9B",
        "colab_type": "code",
        "colab": {
          "base_uri": "https://localhost:8080/",
          "height": 34
        },
        "outputId": "2959b3cd-8c92-42f4-d9c2-3f0a632232e8"
      },
      "source": [
        "!pwd"
      ],
      "execution_count": 3,
      "outputs": [
        {
          "output_type": "stream",
          "text": [
            "/content/gdrive/My Drive/Kaggle\n"
          ],
          "name": "stdout"
        }
      ]
    },
    {
      "cell_type": "code",
      "metadata": {
        "id": "y-Vt3HdjBUAS",
        "colab_type": "code",
        "colab": {
          "base_uri": "https://localhost:8080/",
          "height": 71
        },
        "outputId": "b3b16082-9b4d-44bf-e3b6-5f992f8547f3"
      },
      "source": [
        "import cv2                                         # working with, mainly resizing, images\n",
        "import numpy as np                                 # dealing with arrays\n",
        "from keras.utils import np_utils\n",
        "import os                                          # dealing with directories\n",
        "from random import shuffle                         # mixing up or currently ordered data that might lead our network astray in training.\n",
        "from keras.models import Sequential                # creating sequential model of CNN\n",
        "from keras.layers import Convolution2D             # creating convolution layer\n",
        "from keras.layers import MaxPooling2D              # creating maxpool layer\n",
        "from keras.layers import Flatten                   # creating input vector for dense layer\n",
        "from keras.layers import Dense                    # create dense layer or fully connected layer\n",
        "from keras.layers import Dropout                   # use to avoid overfitting by droping some parameters\n",
        "from keras.preprocessing import image              # generate image\n",
        "import matplotlib.pyplot as plt                    # use for visualization\n",
        "import warnings#\n",
        "\n",
        "# Importing the Keras libraries and packages\n",
        "from keras.layers import Conv2D\n",
        "import pickle\n",
        "%matplotlib inline\n",
        "warnings.filterwarnings('ignore')\n",
        "import os\n",
        "print(os.listdir(\"/content/gdrive/My Drive/Kaggle\"))\n"
      ],
      "execution_count": 4,
      "outputs": [
        {
          "output_type": "stream",
          "text": [
            "Using TensorFlow backend.\n"
          ],
          "name": "stderr"
        },
        {
          "output_type": "stream",
          "text": [
            "['kaggle.json', 'test_set', 'training_set', 'cat-and-dog.zip', 'model.h5', 'clf_weight.pickle', 'model_RMSprop.h5', 'clf_weight_for_RMSprop.pickle', 'Adam_model.h5', 'Adam_model.pickle']\n"
          ],
          "name": "stdout"
        }
      ]
    },
    {
      "cell_type": "markdown",
      "metadata": {
        "id": "PFgSQwF6a8Df",
        "colab_type": "text"
      },
      "source": [
        "Defining training and testing directory. Defining Image Size."
      ]
    },
    {
      "cell_type": "code",
      "metadata": {
        "id": "2eaa-CaZa-MA",
        "colab_type": "code",
        "colab": {}
      },
      "source": [
        "#Our Training and Test data directory\n",
        "TRAIN_DIR = '/content/gdrive/My Drive/Kaggle/training_set/training_set'\n",
        "TEST_DIR = '/content/gdrive/My Drive/Kaggle/test_set/test_set'\n",
        "IMG_SIZE = 28,28"
      ],
      "execution_count": 5,
      "outputs": []
    },
    {
      "cell_type": "markdown",
      "metadata": {
        "id": "A9BJFns-b1PA",
        "colab_type": "text"
      },
      "source": [
        "Creating list to store image name,labels,matrix(pixel value)"
      ]
    },
    {
      "cell_type": "code",
      "metadata": {
        "id": "eiDHbrkbb2nl",
        "colab_type": "code",
        "colab": {}
      },
      "source": [
        "all_image_names = []\n",
        "all_data_labels = []\n",
        "resized_data_images = []"
      ],
      "execution_count": 6,
      "outputs": []
    },
    {
      "cell_type": "markdown",
      "metadata": {
        "id": "Xs_mE3w_b55t",
        "colab_type": "text"
      },
      "source": [
        "Defining Funtion for creating data which takes data from both test and training test."
      ]
    },
    {
      "cell_type": "code",
      "metadata": {
        "id": "hmEUbsxrb98C",
        "colab_type": "code",
        "colab": {}
      },
      "source": [
        "def  create_dataset(DIR):\n",
        "     for folder in os.listdir(TRAIN_DIR):\n",
        "        for file in os.listdir(os.path.join(TRAIN_DIR,folder)):\n",
        "            if file.endswith(\"jpg\"):\n",
        "                all_image_names.append(os.path.join(TRAIN_DIR,folder,file))\n",
        "                all_data_labels.append(folder)\n",
        "                img = cv2.imread(os.path.join(TRAIN_DIR,folder,file))\n",
        "                im = cv2.resize(img,IMG_SIZE)\n",
        "                resized_data_images.append(im)\n",
        "            else:\n",
        "                continue"
      ],
      "execution_count": 7,
      "outputs": []
    },
    {
      "cell_type": "code",
      "metadata": {
        "id": "n90jsocYcEzF",
        "colab_type": "code",
        "colab": {}
      },
      "source": [
        "#calling functions to create data\n",
        "create_dataset(TRAIN_DIR)\n",
        "create_dataset(TEST_DIR)"
      ],
      "execution_count": 8,
      "outputs": []
    },
    {
      "cell_type": "code",
      "metadata": {
        "id": "3qpg2ArCcJbT",
        "colab_type": "code",
        "colab": {}
      },
      "source": [
        "#Since computer understand numbers, let convert our image set to a numpy array and is our resized image\n",
        "data = np.array(resized_data_images)"
      ],
      "execution_count": 9,
      "outputs": []
    },
    {
      "cell_type": "code",
      "metadata": {
        "id": "qxfEoqldcKdX",
        "colab_type": "code",
        "colab": {
          "base_uri": "https://localhost:8080/",
          "height": 68
        },
        "outputId": "97080932-3391-4cac-8531-9e34f9296a9b"
      },
      "source": [
        "print('Length of all images both cat and dog combined is:',len(all_image_names))\n",
        "print('Length of all images both cat and dog labels is:',len(all_data_labels))\n",
        "print('Length of all images both cat and dog that have been resized is to size (28,28) is:',len(resized_data_images))"
      ],
      "execution_count": 10,
      "outputs": [
        {
          "output_type": "stream",
          "text": [
            "Length of all images both cat and dog combined is: 16010\n",
            "Length of all images both cat and dog labels is: 16010\n",
            "Length of all images both cat and dog that have been resized is to size (28,28) is: 16010\n"
          ],
          "name": "stdout"
        }
      ]
    },
    {
      "cell_type": "code",
      "metadata": {
        "id": "G2Z_KU3O0mGz",
        "colab_type": "code",
        "colab": {
          "base_uri": "https://localhost:8080/",
          "height": 34
        },
        "outputId": "fef6fc10-cc90-4bf5-9ff7-df84fe93c415"
      },
      "source": [
        "#Let print out first and last 20 of all_data_labels which is a python list of cats and dogs\n",
        "print(all_data_labels[:20])"
      ],
      "execution_count": 11,
      "outputs": [
        {
          "output_type": "stream",
          "text": [
            "['cats', 'cats', 'cats', 'cats', 'cats', 'cats', 'cats', 'cats', 'cats', 'cats', 'cats', 'cats', 'cats', 'cats', 'cats', 'cats', 'cats', 'cats', 'cats', 'cats']\n"
          ],
          "name": "stdout"
        }
      ]
    },
    {
      "cell_type": "code",
      "metadata": {
        "id": "Dt7W9ZEfRKg7",
        "colab_type": "code",
        "colab": {
          "base_uri": "https://localhost:8080/",
          "height": 34
        },
        "outputId": "a1bb99f6-8668-49b5-efbc-45c4ee1bad43"
      },
      "source": [
        "print(all_data_labels[-20:])"
      ],
      "execution_count": 12,
      "outputs": [
        {
          "output_type": "stream",
          "text": [
            "['dogs', 'dogs', 'dogs', 'dogs', 'dogs', 'dogs', 'dogs', 'dogs', 'dogs', 'dogs', 'dogs', 'dogs', 'dogs', 'dogs', 'dogs', 'dogs', 'dogs', 'dogs', 'dogs', 'dogs']\n"
          ],
          "name": "stdout"
        }
      ]
    },
    {
      "cell_type": "code",
      "metadata": {
        "id": "h8LGwTgOcOpP",
        "colab_type": "code",
        "colab": {
          "base_uri": "https://localhost:8080/",
          "height": 34
        },
        "outputId": "86b4e615-5744-42fb-f05d-70c306956e57"
      },
      "source": [
        "#Let check if length of our data converted to numpy array is the same as the original length of resized images which is 16010\n",
        "len(data)"
      ],
      "execution_count": 13,
      "outputs": [
        {
          "output_type": "execute_result",
          "data": {
            "text/plain": [
              "16010"
            ]
          },
          "metadata": {
            "tags": []
          },
          "execution_count": 13
        }
      ]
    },
    {
      "cell_type": "code",
      "metadata": {
        "id": "-t16CSa9cVTT",
        "colab_type": "code",
        "colab": {
          "base_uri": "https://localhost:8080/",
          "height": 34
        },
        "outputId": "fb438e17-87e1-449f-dfdd-fbe2e8180fbf"
      },
      "source": [
        "#Let check the shape of our data. Which have length of 16010, image size of (width =28, Height = 28) and channel of 3 which rep RGB.\n",
        "data.shape"
      ],
      "execution_count": 14,
      "outputs": [
        {
          "output_type": "execute_result",
          "data": {
            "text/plain": [
              "(16010, 28, 28, 3)"
            ]
          },
          "metadata": {
            "tags": []
          },
          "execution_count": 14
        }
      ]
    },
    {
      "cell_type": "markdown",
      "metadata": {
        "id": "OCEJEvbScXtA",
        "colab_type": "text"
      },
      "source": [
        "Converting string label into 0/1 using LabelEncoder"
      ]
    },
    {
      "cell_type": "code",
      "metadata": {
        "id": "nXaWFls-cZB2",
        "colab_type": "code",
        "colab": {}
      },
      "source": [
        "#Let encode our label into 1s and 0s by using sklearn labelEncoder module\n",
        "from sklearn.preprocessing import LabelEncoder\n",
        "from keras.utils import np_utils\n",
        "\n",
        "LE = LabelEncoder()\n",
        "label = LE.fit_transform(all_data_labels)"
      ],
      "execution_count": 15,
      "outputs": []
    },
    {
      "cell_type": "markdown",
      "metadata": {
        "id": "0mLPTw29cet9",
        "colab_type": "text"
      },
      "source": [
        "Data Spliting"
      ]
    },
    {
      "cell_type": "code",
      "metadata": {
        "id": "SglY_eIScf7P",
        "colab_type": "code",
        "colab": {
          "base_uri": "https://localhost:8080/",
          "height": 85
        },
        "outputId": "0ae10427-4576-4244-abc6-5878d6f7a84d"
      },
      "source": [
        "from sklearn.model_selection import train_test_split\n",
        "\n",
        "X_train,X_val,y_train,y_val=train_test_split(data,label,test_size=0.20,random_state=42)\n",
        "\n",
        "print(\"X_train shape\",X_train.shape)\n",
        "print(\"X_val shape\",X_val.shape)\n",
        "print(\"y_train shape\",y_train.shape)\n",
        "print(\"y_val shape\",y_val.shape)"
      ],
      "execution_count": 16,
      "outputs": [
        {
          "output_type": "stream",
          "text": [
            "X_train shape (12808, 28, 28, 3)\n",
            "X_val shape (3202, 28, 28, 3)\n",
            "y_train shape (12808,)\n",
            "y_val shape (3202,)\n"
          ],
          "name": "stdout"
        }
      ]
    },
    {
      "cell_type": "code",
      "metadata": {
        "id": "k1kEgaIAbtPX",
        "colab_type": "code",
        "colab": {
          "base_uri": "https://localhost:8080/",
          "height": 51
        },
        "outputId": "6ab60e5c-2a68-4c0d-bf38-2f9192872f49"
      },
      "source": [
        "#since is an image dataset, let convert the class vector i.e y_train and y_val in to categorical with output target class 10\n",
        "y_train = np_utils.to_categorical(y_train,10)\n",
        "y_val = np_utils.to_categorical(y_val,10)\n",
        "print(y_train.dtype)\n",
        "print(y_val.dtype)\n"
      ],
      "execution_count": 17,
      "outputs": [
        {
          "output_type": "stream",
          "text": [
            "float32\n",
            "float32\n"
          ],
          "name": "stdout"
        }
      ]
    },
    {
      "cell_type": "markdown",
      "metadata": {
        "id": "KXZGj2-icjUe",
        "colab_type": "text"
      },
      "source": [
        "BUILDING OUR CNN"
      ]
    },
    {
      "cell_type": "code",
      "metadata": {
        "id": "gjZh085Bclv5",
        "colab_type": "code",
        "colab": {
          "base_uri": "https://localhost:8080/",
          "height": 425
        },
        "outputId": "35f4e272-264e-4408-9e6f-1462a448ec30"
      },
      "source": [
        "clf = Sequential()\n",
        "#Let create our first convolution layer\n",
        "clf.add(Conv2D(16, (5, 5), input_shape = (28, 28, 3), activation = 'relu'))\n",
        "\n",
        "#Let add first maxpooling of pool size 2 by 2. The primary aim of a pooling operation is to reduce the size of the images as much as possible.\n",
        "#Literally, reducing the complexity of the model without reducing it’s performance.\n",
        "clf.add(MaxPooling2D(pool_size = (2, 2)))\n",
        "\n",
        "\n",
        "#LET CREATE THE SECOND CONVOLUTION LAYER\n",
        "clf.add(Conv2D(8, (3, 3), activation = 'relu'))\n",
        "clf.add(MaxPooling2D(pool_size = (2, 2)))\n",
        "\n",
        "\n",
        "#It’s time for us to now convert all the pooled images into a continuous vector through Flattening.\n",
        "#Flattening is a very important step to understand. \n",
        "#What we are basically doing here is taking the 2-D array, i.e pooled image pixels and converting them to a one dimensional single vector.\n",
        "clf.add(Flatten())\n",
        "\n",
        "#LET ADD SOME HIDDEN LAYERS. 2 HIDDEN LAYERS\n",
        "clf.add(Dense(units = 500, activation = 'relu'))\n",
        "clf.add(Dense(units = 300, activation = 'relu'))\n",
        "\n",
        "#LET CREATE AN OUTPUT LAYER\n",
        "clf.add(Dense(units = 10, activation = 'softmax'))\n",
        "clf.summary()"
      ],
      "execution_count": 18,
      "outputs": [
        {
          "output_type": "stream",
          "text": [
            "Model: \"sequential_1\"\n",
            "_________________________________________________________________\n",
            "Layer (type)                 Output Shape              Param #   \n",
            "=================================================================\n",
            "conv2d_1 (Conv2D)            (None, 24, 24, 16)        1216      \n",
            "_________________________________________________________________\n",
            "max_pooling2d_1 (MaxPooling2 (None, 12, 12, 16)        0         \n",
            "_________________________________________________________________\n",
            "conv2d_2 (Conv2D)            (None, 10, 10, 8)         1160      \n",
            "_________________________________________________________________\n",
            "max_pooling2d_2 (MaxPooling2 (None, 5, 5, 8)           0         \n",
            "_________________________________________________________________\n",
            "flatten_1 (Flatten)          (None, 200)               0         \n",
            "_________________________________________________________________\n",
            "dense_1 (Dense)              (None, 500)               100500    \n",
            "_________________________________________________________________\n",
            "dense_2 (Dense)              (None, 300)               150300    \n",
            "_________________________________________________________________\n",
            "dense_3 (Dense)              (None, 10)                3010      \n",
            "=================================================================\n",
            "Total params: 256,186\n",
            "Trainable params: 256,186\n",
            "Non-trainable params: 0\n",
            "_________________________________________________________________\n"
          ],
          "name": "stdout"
        }
      ]
    },
    {
      "cell_type": "markdown",
      "metadata": {
        "id": "KZC_1g-IczXa",
        "colab_type": "text"
      },
      "source": [
        "LET PREPROCESS OUR IMAGE\n",
        "ImageDataGenerator use for generating batches of tensor image data with real-time data augmentation. The data will be looped over (in batches)."
      ]
    },
    {
      "cell_type": "code",
      "metadata": {
        "id": "C0hNwwbgc3nV",
        "colab_type": "code",
        "colab": {
          "base_uri": "https://localhost:8080/",
          "height": 51
        },
        "outputId": "380218ed-39f3-4b1a-fd1e-dce34c734c40"
      },
      "source": [
        "from keras.preprocessing.image import ImageDataGenerator\n",
        "train_datagen = ImageDataGenerator(rescale = 1./255,\n",
        "shear_range = 0.2,\n",
        "zoom_range = 0.2,\n",
        "horizontal_flip = True)\n",
        "test_datagen = ImageDataGenerator(rescale = 1./255)\n",
        "training_set = train_datagen.flow_from_directory(TRAIN_DIR,\n",
        "target_size = (28, 28),\n",
        "batch_size = 32,\n",
        "class_mode = 'categorical')\n",
        "test_set = test_datagen.flow_from_directory(TEST_DIR,\n",
        "target_size = (28, 28),\n",
        "batch_size = 32,\n",
        "class_mode = 'categorical')"
      ],
      "execution_count": 19,
      "outputs": [
        {
          "output_type": "stream",
          "text": [
            "Found 8005 images belonging to 2 classes.\n",
            "Found 2023 images belonging to 2 classes.\n"
          ],
          "name": "stdout"
        }
      ]
    },
    {
      "cell_type": "code",
      "metadata": {
        "id": "gJ1bdF7DJ4Bn",
        "colab_type": "code",
        "colab": {}
      },
      "source": [
        "#BATCH OUR TRAIN_DATAGEN WE WANT TO VISUALIZE\n",
        "imgs, labels = next(training_set)"
      ],
      "execution_count": 20,
      "outputs": []
    },
    {
      "cell_type": "code",
      "metadata": {
        "id": "_vxuIoWhKTib",
        "colab_type": "code",
        "colab": {}
      },
      "source": [
        "#LET VISUALIZE OUR IMAGE THAT IS EQIVALENT TO OUR BATCH SIZE OF 32\n",
        "def plotImages(images_arr):\n",
        "    fig, axes = plt.subplots(1, 10, figsize=(20,20))\n",
        "    axes = axes.flatten()\n",
        "    for img, ax in zip( images_arr, axes):\n",
        "        ax.imshow(img)\n",
        "        ax.axis('off')\n",
        "    plt.tight_layout()\n",
        "    plt.show()"
      ],
      "execution_count": 21,
      "outputs": []
    },
    {
      "cell_type": "code",
      "metadata": {
        "id": "w2M5YZFSKYB4",
        "colab_type": "code",
        "colab": {
          "base_uri": "https://localhost:8080/",
          "height": 688
        },
        "outputId": "48ce997f-6e65-4ec9-9bce-f3430c55df72"
      },
      "source": [
        "plotImages(imgs)\n",
        "print(labels)"
      ],
      "execution_count": 22,
      "outputs": [
        {
          "output_type": "display_data",
          "data": {
            "image/png": "[encoded data removed]",
            "text/plain": [
              "<Figure size 1440x1440 with 10 Axes>"
            ]
          },
          "metadata": {
            "tags": [],
            "needs_background": "light"
          }
        },
        {
          "output_type": "stream",
          "text": [
            "[[0. 1.]\n",
            " [0. 1.]\n",
            " [1. 0.]\n",
            " [0. 1.]\n",
            " [1. 0.]\n",
            " [1. 0.]\n",
            " [0. 1.]\n",
            " [1. 0.]\n",
            " [1. 0.]\n",
            " [1. 0.]\n",
            " [0. 1.]\n",
            " [1. 0.]\n",
            " [0. 1.]\n",
            " [1. 0.]\n",
            " [0. 1.]\n",
            " [1. 0.]\n",
            " [0. 1.]\n",
            " [0. 1.]\n",
            " [1. 0.]\n",
            " [0. 1.]\n",
            " [1. 0.]\n",
            " [0. 1.]\n",
            " [0. 1.]\n",
            " [1. 0.]\n",
            " [0. 1.]\n",
            " [0. 1.]\n",
            " [0. 1.]\n",
            " [1. 0.]\n",
            " [1. 0.]\n",
            " [0. 1.]\n",
            " [1. 0.]\n",
            " [0. 1.]]\n"
          ],
          "name": "stdout"
        }
      ]
    },
    {
      "cell_type": "markdown",
      "metadata": {
        "id": "VGr_of_Dbb8G",
        "colab_type": "text"
      },
      "source": [
        "From above image display and label, we can see that [0,1] is for dog and [1,0] is for cat."
      ]
    },
    {
      "cell_type": "code",
      "metadata": {
        "id": "loZ6qfOeqoYF",
        "colab_type": "code",
        "colab": {}
      },
      "source": [
        "#Let compile our model using categorical_crossentropy loss parameter\n",
        "# HERE WE ARE USING ADAM OPTIMIZER\n",
        "clf.compile(loss='categorical_crossentropy', optimizer='Adam', metrics=['accuracy'])"
      ],
      "execution_count": 23,
      "outputs": []
    },
    {
      "cell_type": "markdown",
      "metadata": {
        "id": "VYDWRV-jdVpr",
        "colab_type": "text"
      },
      "source": [
        "LET FIT AND TRAIN OUR CLASSIFIER"
      ]
    },
    {
      "cell_type": "code",
      "metadata": {
        "id": "IWwuV4FYdcNY",
        "colab_type": "code",
        "colab": {
          "base_uri": "https://localhost:8080/",
          "height": 187
        },
        "outputId": "c1c3ed32-846c-4177-c672-a470dcdd9cc4"
      },
      "source": [
        "batch_size = 32\n",
        "steps_per_epoch=len(X_train)\n",
        "validation_steps=len(y_val)\n",
        "print(steps_per_epoch)\n",
        "print(validation_steps)\n",
        "\n",
        "train_history_1 = clf.fit_generator(\n",
        "    train_datagen.flow(X_train,y_train, batch_size=batch_size),\n",
        "    steps_per_epoch = steps_per_epoch,\n",
        "    epochs = 4,\n",
        "    verbose = 2,\n",
        "    validation_data = (X_val,y_val),\n",
        "    validation_steps = validation_steps)"
      ],
      "execution_count": 24,
      "outputs": [
        {
          "output_type": "stream",
          "text": [
            "12808\n",
            "3202\n",
            "Epoch 1/4\n",
            " - 397s - loss: 0.4217 - accuracy: 0.7940 - val_loss: 82.2929 - val_accuracy: 0.7136\n",
            "Epoch 2/4\n",
            " - 394s - loss: 0.1434 - accuracy: 0.9445 - val_loss: 198.5135 - val_accuracy: 0.7417\n",
            "Epoch 3/4\n",
            " - 388s - loss: 0.0796 - accuracy: 0.9709 - val_loss: 275.3694 - val_accuracy: 0.7252\n",
            "Epoch 4/4\n",
            " - 389s - loss: 0.0580 - accuracy: 0.9794 - val_loss: 326.0152 - val_accuracy: 0.7430\n"
          ],
          "name": "stdout"
        }
      ]
    },
    {
      "cell_type": "code",
      "metadata": {
        "id": "h4XaUDz8xHsK",
        "colab_type": "code",
        "colab": {
          "base_uri": "https://localhost:8080/",
          "height": 102
        },
        "outputId": "294d1a90-0121-4be7-b2eb-0b98b09e556b"
      },
      "source": [
        "#Let score(evaluate) our model using accuracy as metrics which we compile above. tHE SCORE BELOW ALIGNS WITH THE VAL_ACCURACY OF \n",
        "#OUR TRAINING ABOVE. You can improve your accuracy score in any hyper parameter tunning of your choice.\n",
        "score = clf.evaluate(X_val, y_val, verbose=1)\n",
        "print(score)\n",
        "#let print our score ADAM OPTIMIZER\n",
        "print('TEST SCORE FOR ADAM Optimizer:',score[0])\n",
        "print('TEST ACCURACY FOR ADAM Optimizer:',score[1])\n",
        "print('Score is',score)"
      ],
      "execution_count": 25,
      "outputs": [
        {
          "output_type": "stream",
          "text": [
            "3202/3202 [==============================] - 1s 229us/step\n",
            "[326.01515093391794, 0.7429731488227844]\n",
            "TEST SCORE FOR ADAM Optimizer: 326.01515093391794\n",
            "TEST ACCURACY FOR ADAM Optimizer: 0.7429731488227844\n",
            "Score is [326.01515093391794, 0.7429731488227844]\n"
          ],
          "name": "stdout"
        }
      ]
    },
    {
      "cell_type": "markdown",
      "metadata": {
        "id": "us-OQkvhdnhI",
        "colab_type": "text"
      },
      "source": [
        "LET PICKLE OUR MODEL. This will automatically save the trained model and we can use it to make predictions without have to train the model all the time. This will also save us training time, computation problem, memory consumption even though we are using colab and aslo save energy consumption. The python pickle module can help us do this or you use the save_weight() function."
      ]
    },
    {
      "cell_type": "code",
      "metadata": {
        "id": "hla3hF9QdrAA",
        "colab_type": "code",
        "colab": {}
      },
      "source": [
        "clf.save_weights('Adam_model.h5')"
      ],
      "execution_count": 26,
      "outputs": []
    },
    {
      "cell_type": "code",
      "metadata": {
        "id": "cHomFPQziajQ",
        "colab_type": "code",
        "colab": {}
      },
      "source": [
        "with open('Adam_model.pickle','wb') as f:\n",
        "    pickle.dump(clf, f)"
      ],
      "execution_count": 27,
      "outputs": []
    },
    {
      "cell_type": "code",
      "metadata": {
        "id": "_2Cs1nGqihYV",
        "colab_type": "code",
        "colab": {}
      },
      "source": [
        "pickle_in = open('Adam_model.pickle','rb')\n",
        "clf = pickle.load(pickle_in)"
      ],
      "execution_count": 28,
      "outputs": []
    },
    {
      "cell_type": "markdown",
      "metadata": {
        "id": "m5ls4siXeRNm",
        "colab_type": "text"
      },
      "source": [
        "MAKING PREDICTION"
      ]
    },
    {
      "cell_type": "code",
      "metadata": {
        "id": "LSxmouz5L-HJ",
        "colab_type": "code",
        "colab": {}
      },
      "source": [
        "#LET VISUALIZE A BATCH OF OUR TEST SIZE\n",
        "test_imgs, test_labels = next(test_set)"
      ],
      "execution_count": 66,
      "outputs": []
    },
    {
      "cell_type": "code",
      "metadata": {
        "id": "9ttEYXEFMdqx",
        "colab_type": "code",
        "colab": {
          "base_uri": "https://localhost:8080/",
          "height": 688
        },
        "outputId": "874de84e-764c-486d-de70-bcf75b84814f"
      },
      "source": [
        "#LET VISUALIZE TEST IMAGE BEFORE MAKING PREDICTION. \n",
        "#LET CALL OUR PLOT FUNCTION\n",
        "plotImages(test_imgs)\n",
        "print(test_labels)"
      ],
      "execution_count": 67,
      "outputs": [
        {
          "output_type": "display_data",
          "data": {
            "image/png": "[encoded data removed]",
            "text/plain": [
              "<Figure size 1440x1440 with 10 Axes>"
            ]
          },
          "metadata": {
            "tags": [],
            "needs_background": "light"
          }
        },
        {
          "output_type": "stream",
          "text": [
            "[[1. 0.]\n",
            " [1. 0.]\n",
            " [0. 1.]\n",
            " [1. 0.]\n",
            " [0. 1.]\n",
            " [0. 1.]\n",
            " [1. 0.]\n",
            " [0. 1.]\n",
            " [1. 0.]\n",
            " [0. 1.]\n",
            " [1. 0.]\n",
            " [0. 1.]\n",
            " [0. 1.]\n",
            " [1. 0.]\n",
            " [0. 1.]\n",
            " [1. 0.]\n",
            " [0. 1.]\n",
            " [0. 1.]\n",
            " [1. 0.]\n",
            " [1. 0.]\n",
            " [1. 0.]\n",
            " [0. 1.]\n",
            " [1. 0.]\n",
            " [1. 0.]\n",
            " [0. 1.]\n",
            " [0. 1.]\n",
            " [1. 0.]\n",
            " [0. 1.]\n",
            " [0. 1.]\n",
            " [0. 1.]\n",
            " [1. 0.]\n",
            " [1. 0.]]\n"
          ],
          "name": "stdout"
        }
      ]
    },
    {
      "cell_type": "markdown",
      "metadata": {
        "id": "NHdf50a1gyQU",
        "colab_type": "text"
      },
      "source": [
        "From above, the first image is a cat. Let see if our model got it correctly. Our model got the first prediction from below [1,0]\n",
        "\n"
      ]
    },
    {
      "cell_type": "code",
      "metadata": {
        "id": "THuamKvAmhlm",
        "colab_type": "code",
        "colab": {
          "base_uri": "https://localhost:8080/",
          "height": 136
        },
        "outputId": "784455a3-30c8-4745-f21d-41f7ff86e862"
      },
      "source": [
        "#Making new predictions from our trained model :\n",
        "predictions = clf.predict(x=test_set, verbose=2)\n",
        "print(np.round(predictions))"
      ],
      "execution_count": 68,
      "outputs": [
        {
          "output_type": "stream",
          "text": [
            "[[1. 0. 0. ... 0. 0. 0.]\n",
            " [1. 0. 0. ... 0. 0. 0.]\n",
            " [0. 1. 0. ... 0. 0. 0.]\n",
            " ...\n",
            " [1. 0. 0. ... 0. 0. 0.]\n",
            " [1. 0. 0. ... 0. 0. 0.]\n",
            " [0. 1. 0. ... 0. 0. 0.]]\n"
          ],
          "name": "stdout"
        }
      ]
    },
    {
      "cell_type": "markdown",
      "metadata": {
        "id": "pVvwbsoAa4K0",
        "colab_type": "text"
      },
      "source": [
        "LET TRY OUR predict_classes() function by loading an image from directory to see the prediction. Our display() function shows is dog. Now from prediction result we will know if our model got it correct.\n"
      ]
    },
    {
      "cell_type": "code",
      "metadata": {
        "id": "t0hIFCtDNGkz",
        "colab_type": "code",
        "colab": {
          "base_uri": "https://localhost:8080/",
          "height": 62
        },
        "outputId": "659be70e-ca1e-4e72-c3c7-489e4b7f8634"
      },
      "source": [
        "import numpy as np\n",
        "from keras.preprocessing import image\n",
        "test_image = image.load_img('/content/gdrive/My Drive/Kaggle/test_set/test_set/dogs/dog.4042.jpg', target_size = (28, 28))\n",
        "display(test_image)\n",
        "test_image = image.img_to_array(test_image)\n",
        "test_image = np.expand_dims(test_image, axis = 0)\n",
        "result=clf.predict_classes(test_image)\n",
        "training_set.class_indices\n",
        "\n",
        "if result[0] == 1:\n",
        "    prediction='cat'\n",
        "else:\n",
        "    prediction='dog'\n",
        "print(prediction)"
      ],
      "execution_count": 54,
      "outputs": [
        {
          "output_type": "display_data",
          "data": {
            "image/png": "[encoded data removed]",
            "text/plain": [
              "<PIL.Image.Image image mode=RGB size=28x28 at 0x7F39A3778C18>"
            ]
          },
          "metadata": {
            "tags": []
          }
        },
        {
          "output_type": "stream",
          "text": [
            "dog\n"
          ],
          "name": "stdout"
        }
      ]
    },
    {
      "cell_type": "markdown",
      "metadata": {
        "id": "b87URyjTkHLu",
        "colab_type": "text"
      },
      "source": [
        "From above, our model got is correct"
      ]
    },
    {
      "cell_type": "markdown",
      "metadata": {
        "id": "2YFLY6R5kxYs",
        "colab_type": "text"
      },
      "source": [
        "LET DO  VISUALIZATION OF TRAINING HISTORY"
      ]
    },
    {
      "cell_type": "code",
      "metadata": {
        "id": "6sVJMpjyk-8A",
        "colab_type": "code",
        "colab": {
          "base_uri": "https://localhost:8080/",
          "height": 34
        },
        "outputId": "9870ea08-d759-4254-9bda-81ae9f21c9bb"
      },
      "source": [
        "# list all data in history\n",
        "print(train_history_1.history.keys())"
      ],
      "execution_count": 33,
      "outputs": [
        {
          "output_type": "stream",
          "text": [
            "dict_keys(['val_loss', 'val_accuracy', 'loss', 'accuracy'])\n"
          ],
          "name": "stdout"
        }
      ]
    },
    {
      "cell_type": "code",
      "metadata": {
        "id": "0CI8vtGGlC28",
        "colab_type": "code",
        "colab": {
          "base_uri": "https://localhost:8080/",
          "height": 295
        },
        "outputId": "b1a7d1b6-0d67-4b87-8a0e-a3405548927e"
      },
      "source": [
        "# summarize history for accuracy\n",
        "plt.plot(train_history_1.history['accuracy'])\n",
        "plt.plot(train_history_1.history['val_accuracy'])\n",
        "plt.title('model accuracy')\n",
        "plt.ylabel('accuracy')\n",
        "plt.xlabel('epoch')\n",
        "plt.legend(['train', 'test'], loc='upper left')\n",
        "plt.show()"
      ],
      "execution_count": 34,
      "outputs": [
        {
          "output_type": "display_data",
          "data": {
            "image/png": "[encoded data removed]",
            "text/plain": [
              "<Figure size 432x288 with 1 Axes>"
            ]
          },
          "metadata": {
            "tags": [],
            "needs_background": "light"
          }
        }
      ]
    },
    {
      "cell_type": "code",
      "metadata": {
        "id": "0ogffuYslFhs",
        "colab_type": "code",
        "colab": {
          "base_uri": "https://localhost:8080/",
          "height": 295
        },
        "outputId": "30c76e60-b40e-4700-8455-50f98d6f189c"
      },
      "source": [
        "\n",
        "# summarize history for loss\n",
        "plt.plot(train_history_1.history['loss'])\n",
        "plt.plot(train_history_1.history['val_loss'])\n",
        "plt.title('model loss')\n",
        "plt.ylabel('loss')\n",
        "plt.xlabel('epoch')\n",
        "plt.legend(['train', 'test'], loc='middle left')\n",
        "plt.show()"
      ],
      "execution_count": 35,
      "outputs": [
        {
          "output_type": "display_data",
          "data": {
            "image/png": "[encoded data removed]",
            "text/plain": [
              "<Figure size 432x288 with 1 Axes>"
            ]
          },
          "metadata": {
            "tags": [],
            "needs_background": "light"
          }
        }
      ]
    },
    {
      "cell_type": "markdown",
      "metadata": {
        "id": "RmvgJ6ZceWCi",
        "colab_type": "text"
      },
      "source": [
        "LET COMPILE OUR MODEL USING RMSprop OPTIMIZER AND CHECK THE ACCURACY"
      ]
    },
    {
      "cell_type": "code",
      "metadata": {
        "id": "1kSsZrOVkx2y",
        "colab_type": "code",
        "colab": {}
      },
      "source": [
        "#Let compile our model using categorical_crossentropy loss parametre and RMSprop OPTIMIZER\n",
        "clf.compile(loss='categorical_crossentropy', optimizer='RMSprop', metrics=['accuracy'])"
      ],
      "execution_count": 36,
      "outputs": []
    },
    {
      "cell_type": "markdown",
      "metadata": {
        "id": "8AWtbPUA0QkX",
        "colab_type": "text"
      },
      "source": [
        " LET FIT  AND TRAIN OUR MODEL"
      ]
    },
    {
      "cell_type": "code",
      "metadata": {
        "id": "8z1r1CfAlRQ0",
        "colab_type": "code",
        "colab": {
          "base_uri": "https://localhost:8080/",
          "height": 187
        },
        "outputId": "ee47f5df-caaf-4932-d6c2-e8a7f5bc9fc5"
      },
      "source": [
        "batch_size = 32\n",
        "steps_per_epoch=len(X_train)\n",
        "validation_steps=len(y_val)\n",
        "print(steps_per_epoch)\n",
        "print(validation_steps)\n",
        "\n",
        "history=clf.fit_generator(\n",
        "    train_datagen.flow(X_train,y_train, batch_size=batch_size),\n",
        "    steps_per_epoch = steps_per_epoch,\n",
        "    epochs = 4,\n",
        "    verbose = 2,\n",
        "    validation_data = (X_val,y_val),\n",
        "    validation_steps = validation_steps)"
      ],
      "execution_count": 37,
      "outputs": [
        {
          "output_type": "stream",
          "text": [
            "12808\n",
            "3202\n",
            "Epoch 1/4\n",
            " - 391s - loss: 0.0922 - accuracy: 0.9736 - val_loss: 407.8365 - val_accuracy: 0.7776\n",
            "Epoch 2/4\n",
            " - 393s - loss: 0.3318 - accuracy: 0.8728 - val_loss: 20300.2501 - val_accuracy: 0.5949\n",
            "Epoch 3/4\n",
            " - 394s - loss: 0.4792 - accuracy: 0.7830 - val_loss: 18483.4396 - val_accuracy: 0.6568\n",
            "Epoch 4/4\n",
            " - 395s - loss: 0.5179 - accuracy: 0.7566 - val_loss: 29997.6372 - val_accuracy: 0.6655\n"
          ],
          "name": "stdout"
        }
      ]
    },
    {
      "cell_type": "code",
      "metadata": {
        "id": "6nrORxMKxhZB",
        "colab_type": "code",
        "colab": {
          "base_uri": "https://localhost:8080/",
          "height": 34
        },
        "outputId": "7d036b25-0b43-4747-f5ac-3eec7851463f"
      },
      "source": [
        "#Let score(evaluate) our model using accuracy as metrics which we compile above\n",
        "score = clf.evaluate(X_val, y_val, verbose = 1)"
      ],
      "execution_count": 38,
      "outputs": [
        {
          "output_type": "stream",
          "text": [
            "3202/3202 [==============================] - 1s 235us/step\n"
          ],
          "name": "stdout"
        }
      ]
    },
    {
      "cell_type": "code",
      "metadata": {
        "id": "DjtJ5neQxOTo",
        "colab_type": "code",
        "colab": {
          "base_uri": "https://localhost:8080/",
          "height": 68
        },
        "outputId": "79f48ae2-7539-4c9f-da06-ff06e2d8d694"
      },
      "source": [
        "#let print our score RMSprop OPTIMIZER\n",
        "print('TEST SCORE FOR RMSprop Optimizer:',score[0])\n",
        "print('TEST ACCURACY FOR RMSprop Optimizer:',score[1])\n",
        "print('Score is',score)"
      ],
      "execution_count": 39,
      "outputs": [
        {
          "output_type": "stream",
          "text": [
            "TEST SCORE FOR RMSprop Optimizer: 29997.63716036852\n",
            "TEST ACCURACY FOR RMSprop Optimizer: 0.6655215620994568\n",
            "Score is [29997.63716036852, 0.6655215620994568]\n"
          ],
          "name": "stdout"
        }
      ]
    },
    {
      "cell_type": "markdown",
      "metadata": {
        "id": "VJ22QeMN0aOu",
        "colab_type": "text"
      },
      "source": [
        "LET SAVE OUR TRAINED MODEL WHERE WE USE RMSprop OPTIMIZER"
      ]
    },
    {
      "cell_type": "code",
      "metadata": {
        "id": "hE5gjL3zez2C",
        "colab_type": "code",
        "colab": {}
      },
      "source": [
        "clf.save_weights('model_RMSprop.h5')"
      ],
      "execution_count": 40,
      "outputs": []
    },
    {
      "cell_type": "code",
      "metadata": {
        "id": "qBcv63GpDsSy",
        "colab_type": "code",
        "colab": {}
      },
      "source": [
        "with open('clf_weight_for_RMSprop.pickle','wb') as f:\n",
        "    pickle.dump(clf, f)"
      ],
      "execution_count": 41,
      "outputs": []
    },
    {
      "cell_type": "code",
      "metadata": {
        "id": "hJ6NRosED2DQ",
        "colab_type": "code",
        "colab": {}
      },
      "source": [
        "pickle_in = open('clf_weight_for_RMSprop.pickle','rb')\n",
        "clf = pickle.load(pickle_in)"
      ],
      "execution_count": 42,
      "outputs": []
    },
    {
      "cell_type": "code",
      "metadata": {
        "id": "OgN77lnJKwUk",
        "colab_type": "code",
        "colab": {
          "base_uri": "https://localhost:8080/",
          "height": 85
        },
        "outputId": "e2476c09-ee57-439a-e2ca-364920b48de4"
      },
      "source": [
        "!ls #This shows all the files in our working directory"
      ],
      "execution_count": 43,
      "outputs": [
        {
          "output_type": "stream",
          "text": [
            "Adam_model.h5\t\t       clf_weight.pickle  test_set\n",
            "Adam_model.pickle\t       kaggle.json\t  training_set\n",
            "cat-and-dog.zip\t\t       model.h5\n",
            "clf_weight_for_RMSprop.pickle  model_RMSprop.h5\n"
          ],
          "name": "stdout"
        }
      ]
    },
    {
      "cell_type": "code",
      "metadata": {
        "id": "MLWlPEBpjTTt",
        "colab_type": "code",
        "colab": {
          "base_uri": "https://localhost:8080/",
          "height": 34
        },
        "outputId": "addd9431-8bcf-4641-af0c-79c8261d5850"
      },
      "source": [
        "# list all data in history\n",
        "print(history.history.keys())"
      ],
      "execution_count": 44,
      "outputs": [
        {
          "output_type": "stream",
          "text": [
            "dict_keys(['val_loss', 'val_accuracy', 'loss', 'accuracy'])\n"
          ],
          "name": "stdout"
        }
      ]
    },
    {
      "cell_type": "code",
      "metadata": {
        "id": "E9EH8Fwmlaog",
        "colab_type": "code",
        "colab": {
          "base_uri": "https://localhost:8080/",
          "height": 295
        },
        "outputId": "3087a42e-f955-48e8-d977-7fb468c38003"
      },
      "source": [
        "# summarize history for accuracy\n",
        "plt.plot(history.history['accuracy'])\n",
        "plt.plot(history.history['val_accuracy'])\n",
        "plt.title('model accuracy')\n",
        "plt.ylabel('accuracy')\n",
        "plt.xlabel('epoch')\n",
        "plt.legend(['train', 'test'], loc='middle left')\n",
        "plt.show()"
      ],
      "execution_count": 45,
      "outputs": [
        {
          "output_type": "display_data",
          "data": {
            "image/png": "[encoded data removed]",
            "text/plain": [
              "<Figure size 432x288 with 1 Axes>"
            ]
          },
          "metadata": {
            "tags": [],
            "needs_background": "light"
          }
        }
      ]
    },
    {
      "cell_type": "code",
      "metadata": {
        "id": "0YynDm6_ldSe",
        "colab_type": "code",
        "colab": {
          "base_uri": "https://localhost:8080/",
          "height": 312
        },
        "outputId": "ed3095a2-3f1d-4048-a4fd-1bc06809cd0c"
      },
      "source": [
        "# summarize history for loss\n",
        "plt.plot(history.history['loss'])\n",
        "plt.plot(history.history['val_loss'])\n",
        "plt.title('model loss')\n",
        "plt.ylabel('loss')\n",
        "plt.xlabel('epoch')\n",
        "plt.legend(['train', 'test'], loc='upper left')"
      ],
      "execution_count": 46,
      "outputs": [
        {
          "output_type": "execute_result",
          "data": {
            "text/plain": [
              "<matplotlib.legend.Legend at 0x7f39a3a60b00>"
            ]
          },
          "metadata": {
            "tags": []
          },
          "execution_count": 46
        },
        {
          "output_type": "display_data",
          "data": {
            "image/png": "[encoded data removed]",
            "text/plain": [
              "<Figure size 432x288 with 1 Axes>"
            ]
          },
          "metadata": {
            "tags": [],
            "needs_background": "light"
          }
        }
      ]
    },
    {
      "cell_type": "markdown",
      "metadata": {
        "id": "e_u3rskzuMAC",
        "colab_type": "text"
      },
      "source": [
        "IF YOU HAVE REACH HERE, WELL DONE. I KNOW A LOT CAN STILL BE DONE TO IMPROVE THIS MODEL. ORIGINALLY THIS IS A BINARY CLASSIFICATION PROBLEM BUT WE WERE TOLD TO USE 10 OUTPUT NEURON. EVEN THOUGH WE USED SOFTMAX ACTIVATION FUNCTION, THAT WAS JUST BASICALLY TO HELP US USE THAT 10 OUTPUT NEURON AS IT SEEMS TO OVER LITTLE OR KNOW EFFECT IN OUR MODEL PERFORMANCE. BUT USING BINARY CROSS ENTROPY WITH OUTPUT NEURON OF I OR CATEGORICAL-CROSSENTROPY WITH OUTPUT NEURON OF 2 CAN IMPROVE THIS MODEL. ALSO, WE CAN DO SOME HYPERPARAMETRE TUNNINGS AS WELL. FEEL FREE TO LEAVE A COMMENTS. \n",
        "\n",
        "DISCLAIMER: THIS IS JUST A PRACTICE."
      ]
    }
  ]
}